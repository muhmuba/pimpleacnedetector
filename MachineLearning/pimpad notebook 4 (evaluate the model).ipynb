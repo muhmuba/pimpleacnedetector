{
 "cells": [
  {
   "cell_type": "code",
   "execution_count": 32,
   "metadata": {
    "colab": {
     "base_uri": "https://localhost:8080/"
    },
    "id": "3chUkGJoAjpY",
    "outputId": "f5a9c4a8-2549-474c-cad2-24c5b1e26537"
   },
   "outputs": [
    {
     "name": "stdout",
     "output_type": "stream",
     "text": [
      "TensorFlow : 2.9.1\n"
     ]
    }
   ],
   "source": [
    "import tensorflow as tf\n",
    "print('TensorFlow :', tf.__version__)"
   ]
  },
  {
   "cell_type": "code",
   "execution_count": 33,
   "metadata": {
    "id": "R71YqWI6AwzN"
   },
   "outputs": [],
   "source": [
    "from tensorflow.keras.preprocessing.image import ImageDataGenerator\n",
    "from tensorflow.keras.preprocessing import image_dataset_from_directory\n",
    "from tensorflow.keras import layers\n",
    "from tensorflow.keras import Model\n",
    "from keras_preprocessing import image\n",
    "from shutil import copyfile\n",
    "from sklearn.metrics import classification_report, confusion_matrix\n",
    "from sklearn.metrics import ConfusionMatrixDisplay\n",
    "\n",
    "import zipfile\n",
    "import matplotlib.pyplot as plt\n",
    "import numpy as np\n",
    "import os\n",
    "import shutil\n",
    "import scipy\n",
    "import pathlib"
   ]
  },
  {
   "cell_type": "code",
   "execution_count": 34,
   "metadata": {
    "colab": {
     "base_uri": "https://localhost:8080/"
    },
    "id": "qzAnj9cpA8rN",
    "outputId": "c8afe674-2b1a-44ca-e792-9d09e737f6e7"
   },
   "outputs": [
    {
     "data": {
      "text/plain": [
       "['Nodules',\n",
       " 'Whitehead',\n",
       " 'Blackhead',\n",
       " '.ipynb_checkpoints',\n",
       " 'Normal',\n",
       " 'Pustules',\n",
       " 'acne',\n",
       " 'Papule']"
      ]
     },
     "execution_count": 34,
     "metadata": {},
     "output_type": "execute_result"
    }
   ],
   "source": [
    "DATASET_PATH = './datasets/'\n",
    "\n",
    "os.listdir(DATASET_PATH)"
   ]
  },
  {
   "cell_type": "code",
   "execution_count": 35,
   "metadata": {
    "colab": {
     "base_uri": "https://localhost:8080/"
    },
    "id": "Kmv3sIIdEFip",
    "outputId": "136777b3-a37e-4630-ba1c-c13e68346038"
   },
   "outputs": [
    {
     "name": "stdout",
     "output_type": "stream",
     "text": [
      "Papula: 50\n",
      "Whitehead: 56\n",
      "Pustula: 54\n",
      "Blackhead: 51\n",
      "Nodule: 59\n",
      "Normal: 53\n"
     ]
    }
   ],
   "source": [
    "print('Papula:', len(os.listdir('./datasets/Papule')))\n",
    "print('Whitehead:', len(os.listdir('./datasets/Whitehead')))\n",
    "print('Pustula:', len(os.listdir('./datasets/Pustules')))\n",
    "print('Blackhead:', len(os.listdir('./datasets/Blackhead')))\n",
    "print('Nodule:', len(os.listdir('./datasets/Nodules')))\n",
    "print('Normal:', len(os.listdir('./datasets/Normal')))"
   ]
  },
  {
   "cell_type": "code",
   "execution_count": 36,
   "metadata": {
    "id": "caLUZzP6EABb"
   },
   "outputs": [],
   "source": [
    "def split_data(SOURCE, TRAINING, TESTING, VALIDATION, SPLIT_SIZE):\n",
    "    if not os.path.exists(TRAINING): \n",
    "        os.makedirs(TRAINING) \n",
    "                \n",
    "    if not os.path.exists(TESTING): \n",
    "        os.makedirs(TESTING) \n",
    "        \n",
    "    if not os.path.exists(VALIDATION): \n",
    "        os.makedirs(VALIDATION)\n",
    "\n",
    "    file_names = os.listdir(SOURCE) \n",
    "    file_number = len(file_names) \n",
    "\n",
    "    for index, file in enumerate(file_names): \n",
    "        if index < SPLIT_SIZE * file_number: \n",
    "            if index < 0.8 * file_number:\n",
    "                copyfile(os.path.join(SOURCE, file), os.path.join(TRAINING, file))\n",
    "            else:\n",
    "                copyfile(os.path.join(SOURCE, file), os.path.join(VALIDATION, file))\n",
    "        else: \n",
    "            copyfile(os.path.join(SOURCE, file), os.path.join(TESTING, file))\n",
    "        \n",
    "PAPULA_SOURCE_DIR = './datasets/Papule'\n",
    "WHITEHEAD_SOURCE_DIR = './datasets/Whitehead'\n",
    "PUSTULA_SOURCE_DIR = './datasets/Pustules'\n",
    "BLACKHEAD_SOURCE_DIR = './datasets/Blackhead'\n",
    "NODUL_SOURCE_DIR = \"./datasets/Nodules\"\n",
    "NORMAL_SOURCE_DIR = \"./datasets/Normal\"\n",
    "\n",
    "TRAINING_PAPULA_DIR = \"./datasets/acne/training/papula\"\n",
    "TRAINING_WHITEHEAD_DIR = \"./datasets/acne/training/whitehead\"\n",
    "TRAINING_PUSTULA_DIR = \"./datasets/acne/training/pustula\"\n",
    "TRAINING_BLACKHEAD_DIR = \"./datasets/acne/training/blackhead\"\n",
    "TRAINING_NODUL_DIR = \"./datasets/acne/training/nodul\"\n",
    "TRAINING_NORMAL_DIR = \"./datasets/acne/training/normal\"\n",
    "\n",
    "TESTING_PAPULA_DIR = \"./datasets/acne/testing/papula\"\n",
    "TESTING_WHITEHEAD_DIR = \"./datasets/acne/testing/whitehead\"\n",
    "TESTING_PUSTULA_DIR = \"./datasets/acne/testing/pustula\"\n",
    "TESTING_BLACKHEAD_DIR = \"./datasets/acne/testing/blackhead\"\n",
    "TESTING_NODUL_DIR = \"./datasets/acne/testing/nodul\"\n",
    "TESTING_NORMAL_DIR = \"./datasets/acne/testing/normal\"\n",
    "\n",
    "VALIDATION_PAPULA_DIR = \"./datasets/acne/validation/papula\"\n",
    "VALIDATION_WHITEHEAD_DIR = \"./datasets/acne/validation/whitehead\"\n",
    "VALIDATION_PUSTULA_DIR = \"./datasets/acne/validation/pustula\"\n",
    "VALIDATION_BLACKHEAD_DIR = \"./datasets/acne/validation/blackhead\"\n",
    "VALIDATION_NODUL_DIR = \"./datasets/acne/validation/nodul\"\n",
    "VALIDATION_NORMAL_DIR = \"./datasets/acne/validation/normal\"\n",
    "\n",
    "split_size = .8\n",
    "split_data(PAPULA_SOURCE_DIR, TRAINING_PAPULA_DIR, TESTING_PAPULA_DIR, VALIDATION_PAPULA_DIR, split_size)\n",
    "split_data(WHITEHEAD_SOURCE_DIR, TRAINING_WHITEHEAD_DIR, TESTING_WHITEHEAD_DIR, VALIDATION_WHITEHEAD_DIR, split_size)\n",
    "split_data(PUSTULA_SOURCE_DIR, TRAINING_PUSTULA_DIR, TESTING_PUSTULA_DIR, VALIDATION_PUSTULA_DIR, split_size)\n",
    "split_data(BLACKHEAD_SOURCE_DIR, TRAINING_BLACKHEAD_DIR, TESTING_BLACKHEAD_DIR, VALIDATION_BLACKHEAD_DIR, split_size)\n",
    "split_data(NODUL_SOURCE_DIR, TRAINING_NODUL_DIR, TESTING_NODUL_DIR, VALIDATION_NODUL_DIR, split_size)\n",
    "split_data(NORMAL_SOURCE_DIR, TRAINING_NORMAL_DIR, TESTING_NORMAL_DIR, VALIDATION_NORMAL_DIR, split_size)"
   ]
  },
  {
   "cell_type": "code",
   "execution_count": 37,
   "metadata": {
    "colab": {
     "base_uri": "https://localhost:8080/"
    },
    "id": "ECakzK4sIS9V",
    "outputId": "8a46e8f2-1410-411b-fad1-24c601bcb478"
   },
   "outputs": [
    {
     "name": "stdout",
     "output_type": "stream",
     "text": [
      "Training\n",
      "Papula : 40\n",
      "Whitehead : 45\n",
      "Pustula : 44\n",
      "Blackhead : 41\n",
      "Nodul : 48\n",
      "Normal : 43\n",
      "\n",
      "Testing\n",
      "Papula : 10\n",
      "Whitehead : 11\n",
      "Pustula : 10\n",
      "Blackhead : 10\n",
      "Nodul : 11\n",
      "Normal : 10\n",
      "\n",
      "Validation\n",
      "Papula : 5\n",
      "Whitehead : 6\n",
      "Pustula : 5\n",
      "Blackhead : 5\n",
      "Nodul : 6\n",
      "Normal : 5\n"
     ]
    }
   ],
   "source": [
    "train_papula = os.listdir(TRAINING_PAPULA_DIR)\n",
    "train_whitehead = os.listdir(TRAINING_WHITEHEAD_DIR)\n",
    "train_pustula = os.listdir(TRAINING_PUSTULA_DIR)\n",
    "train_blackhead = os.listdir(TRAINING_BLACKHEAD_DIR)\n",
    "train_nodul = os.listdir(TRAINING_NODUL_DIR)\n",
    "train_normal = os.listdir(TRAINING_NORMAL_DIR)\n",
    "\n",
    "test_papula = os.listdir(TESTING_PAPULA_DIR)\n",
    "test_whitehead = os.listdir(TESTING_WHITEHEAD_DIR)\n",
    "test_pustula = os.listdir(TESTING_PUSTULA_DIR)\n",
    "test_blackhead = os.listdir(TESTING_BLACKHEAD_DIR)\n",
    "test_nodul = os.listdir(TESTING_NODUL_DIR)\n",
    "test_normal = os.listdir(TESTING_NORMAL_DIR)\n",
    "\n",
    "val_papula = os.listdir(VALIDATION_PAPULA_DIR)\n",
    "val_whitehead = os.listdir(VALIDATION_WHITEHEAD_DIR)\n",
    "val_pustula = os.listdir(VALIDATION_PUSTULA_DIR)\n",
    "val_blackhead = os.listdir(VALIDATION_BLACKHEAD_DIR)\n",
    "val_nodul = os.listdir(VALIDATION_NODUL_DIR)\n",
    "val_normal = os.listdir(VALIDATION_NORMAL_DIR)\n",
    "\n",
    "print(\"Training\")\n",
    "print('Papula :', len(train_papula))\n",
    "print('Whitehead :', len(train_whitehead))\n",
    "print('Pustula :', len(train_pustula))\n",
    "print('Blackhead :', len(train_blackhead))\n",
    "print('Nodul :', len(train_nodul))\n",
    "print('Normal :', len(train_normal))\n",
    "\n",
    "print(\"\\nTesting\")\n",
    "print('Papula :', len(test_papula))\n",
    "print('Whitehead :', len(test_whitehead))\n",
    "print('Pustula :', len(test_pustula))\n",
    "print('Blackhead :', len(test_blackhead))\n",
    "print('Nodul :', len(test_nodul))\n",
    "print('Normal :', len(test_normal))\n",
    "\n",
    "print(\"\\nValidation\")\n",
    "print('Papula :', len(val_papula))\n",
    "print('Whitehead :', len(val_whitehead))\n",
    "print('Pustula :', len(val_pustula))\n",
    "print('Blackhead :', len(val_blackhead))\n",
    "print('Nodul :', len(val_nodul))\n",
    "print('Normal :', len(val_normal))"
   ]
  },
  {
   "cell_type": "code",
   "execution_count": 38,
   "metadata": {
    "colab": {
     "base_uri": "https://localhost:8080/"
    },
    "id": "n2Vb0mKaJiA5",
    "outputId": "34fe13cf-0e31-4f3b-c5e1-745ee7c0000f"
   },
   "outputs": [
    {
     "name": "stdout",
     "output_type": "stream",
     "text": [
      "Found 261 images belonging to 6 classes.\n",
      "Found 62 images belonging to 6 classes.\n",
      "Found 32 images belonging to 6 classes.\n"
     ]
    }
   ],
   "source": [
    "BATCH_SIZE = 64\n",
    "IMG_SIZE = (224, 224)\n",
    "\n",
    "TRAINING_DIR = './datasets/acne/training'\n",
    "train_datagen = image.ImageDataGenerator(\n",
    "    rescale=1.0/255.0,\n",
    "    rotation_range=45,\n",
    "    width_shift_range=0.25,\n",
    "    height_shift_range=0.25,\n",
    "    shear_range=0.25,\n",
    "    zoom_range=0.25,\n",
    "    horizontal_flip=True,\n",
    "    fill_mode='nearest'\n",
    ")\n",
    "\n",
    "train_generator = train_datagen.flow_from_directory(\n",
    "    TRAINING_DIR, \n",
    "    class_mode='categorical', \n",
    "    batch_size=BATCH_SIZE, \n",
    "    target_size=IMG_SIZE, \n",
    "    shuffle=True\n",
    ")\n",
    "\n",
    "\n",
    "TESTING_DIR = './datasets/acne/testing'\n",
    "datagen = image.ImageDataGenerator(rescale = 1.0/255.0)\n",
    "test_generator = datagen.flow_from_directory(\n",
    "    TESTING_DIR, \n",
    "    class_mode='categorical', \n",
    "    batch_size=6*BATCH_SIZE, \n",
    "    target_size=IMG_SIZE,\n",
    "    shuffle=False\n",
    ")\n",
    "\n",
    "\n",
    "VALIDATION_DIR = './datasets/acne/validation'\n",
    "datagen = image.ImageDataGenerator(rescale = 1.0/255.0)\n",
    "val_generator = datagen.flow_from_directory(\n",
    "    VALIDATION_DIR, \n",
    "    class_mode='categorical', \n",
    "    batch_size=BATCH_SIZE, \n",
    "    target_size=IMG_SIZE,\n",
    "    shuffle=False\n",
    ")"
   ]
  },
  {
   "cell_type": "code",
   "execution_count": 39,
   "metadata": {
    "colab": {
     "base_uri": "https://localhost:8080/"
    },
    "id": "yWfjDKWmJ0vC",
    "outputId": "02388a81-ceae-4c98-efbb-2451f2c4934f"
   },
   "outputs": [
    {
     "name": "stdout",
     "output_type": "stream",
     "text": [
      "Found 261 files belonging to 6 classes.\n"
     ]
    }
   ],
   "source": [
    "train_dataset = image_dataset_from_directory(TRAINING_DIR,\n",
    "                                             shuffle=True,\n",
    "                                             batch_size=BATCH_SIZE,\n",
    "                                             image_size=IMG_SIZE)"
   ]
  },
  {
   "cell_type": "code",
   "execution_count": 40,
   "metadata": {
    "colab": {
     "base_uri": "https://localhost:8080/"
    },
    "id": "LR-ysO7CJ419",
    "outputId": "e8c1b560-90b5-44dc-c0ec-914d1e77e954"
   },
   "outputs": [
    {
     "name": "stdout",
     "output_type": "stream",
     "text": [
      "['blackhead', 'nodul', 'normal', 'papula', 'pustula', 'whitehead']\n"
     ]
    }
   ],
   "source": [
    "class_names = train_dataset.class_names\n",
    "\n",
    "print(class_names)"
   ]
  },
  {
   "cell_type": "code",
   "execution_count": 41,
   "metadata": {
    "id": "Ksx1Tp2VKgMx"
   },
   "outputs": [],
   "source": [
    "from tensorflow.keras.applications.mobilenet_v2 import MobileNetV2\n",
    "\n",
    "pretrained_model = MobileNetV2(input_shape = (224, 224, 3),\n",
    "                                include_top = False,\n",
    "                                weights = 'imagenet')"
   ]
  },
  {
   "cell_type": "code",
   "execution_count": 42,
   "metadata": {
    "id": "9PNGL_tiSKPx"
   },
   "outputs": [],
   "source": [
    "for layer in pretrained_model.layers:\n",
    "    layer.trainable = False"
   ]
  },
  {
   "cell_type": "code",
   "execution_count": 43,
   "metadata": {
    "id": "RkDzaRG-SmVh"
   },
   "outputs": [],
   "source": [
    "x = pretrained_model.output\n",
    "x = tf.keras.layers.GlobalAveragePooling2D()(x)\n",
    "x = tf.keras.layers.Dense(1024,activation='relu')(x) \n",
    "x = tf.keras.layers.Dense(1024,activation='relu')(x) \n",
    "x = tf.keras.layers.Dense(512,activation='relu')(x)  \n",
    "x = tf.keras.layers.Dense(6,activation='softmax')(x) \n",
    "\n",
    "model = Model(pretrained_model.input, x)     "
   ]
  },
  {
   "cell_type": "code",
   "execution_count": 44,
   "metadata": {
    "colab": {
     "base_uri": "https://localhost:8080/"
    },
    "id": "egYDc_eiSRNY",
    "outputId": "61104448-0647-4086-e806-19090445c45b"
   },
   "outputs": [
    {
     "name": "stdout",
     "output_type": "stream",
     "text": [
      "Model: \"model_1\"\n",
      "__________________________________________________________________________________________________\n",
      " Layer (type)                   Output Shape         Param #     Connected to                     \n",
      "==================================================================================================\n",
      " input_2 (InputLayer)           [(None, 224, 224, 3  0           []                               \n",
      "                                )]                                                                \n",
      "                                                                                                  \n",
      " Conv1 (Conv2D)                 (None, 112, 112, 32  864         ['input_2[0][0]']                \n",
      "                                )                                                                 \n",
      "                                                                                                  \n",
      " bn_Conv1 (BatchNormalization)  (None, 112, 112, 32  128         ['Conv1[0][0]']                  \n",
      "                                )                                                                 \n",
      "                                                                                                  \n",
      " Conv1_relu (ReLU)              (None, 112, 112, 32  0           ['bn_Conv1[0][0]']               \n",
      "                                )                                                                 \n",
      "                                                                                                  \n",
      " expanded_conv_depthwise (Depth  (None, 112, 112, 32  288        ['Conv1_relu[0][0]']             \n",
      " wiseConv2D)                    )                                                                 \n",
      "                                                                                                  \n",
      " expanded_conv_depthwise_BN (Ba  (None, 112, 112, 32  128        ['expanded_conv_depthwise[0][0]']\n",
      " tchNormalization)              )                                                                 \n",
      "                                                                                                  \n",
      " expanded_conv_depthwise_relu (  (None, 112, 112, 32  0          ['expanded_conv_depthwise_BN[0][0\n",
      " ReLU)                          )                                ]']                              \n",
      "                                                                                                  \n",
      " expanded_conv_project (Conv2D)  (None, 112, 112, 16  512        ['expanded_conv_depthwise_relu[0]\n",
      "                                )                                [0]']                            \n",
      "                                                                                                  \n",
      " expanded_conv_project_BN (Batc  (None, 112, 112, 16  64         ['expanded_conv_project[0][0]']  \n",
      " hNormalization)                )                                                                 \n",
      "                                                                                                  \n",
      " block_1_expand (Conv2D)        (None, 112, 112, 96  1536        ['expanded_conv_project_BN[0][0]'\n",
      "                                )                                ]                                \n",
      "                                                                                                  \n",
      " block_1_expand_BN (BatchNormal  (None, 112, 112, 96  384        ['block_1_expand[0][0]']         \n",
      " ization)                       )                                                                 \n",
      "                                                                                                  \n",
      " block_1_expand_relu (ReLU)     (None, 112, 112, 96  0           ['block_1_expand_BN[0][0]']      \n",
      "                                )                                                                 \n",
      "                                                                                                  \n",
      " block_1_pad (ZeroPadding2D)    (None, 113, 113, 96  0           ['block_1_expand_relu[0][0]']    \n",
      "                                )                                                                 \n",
      "                                                                                                  \n",
      " block_1_depthwise (DepthwiseCo  (None, 56, 56, 96)  864         ['block_1_pad[0][0]']            \n",
      " nv2D)                                                                                            \n",
      "                                                                                                  \n",
      " block_1_depthwise_BN (BatchNor  (None, 56, 56, 96)  384         ['block_1_depthwise[0][0]']      \n",
      " malization)                                                                                      \n",
      "                                                                                                  \n",
      " block_1_depthwise_relu (ReLU)  (None, 56, 56, 96)   0           ['block_1_depthwise_BN[0][0]']   \n",
      "                                                                                                  \n",
      " block_1_project (Conv2D)       (None, 56, 56, 24)   2304        ['block_1_depthwise_relu[0][0]'] \n",
      "                                                                                                  \n",
      " block_1_project_BN (BatchNorma  (None, 56, 56, 24)  96          ['block_1_project[0][0]']        \n",
      " lization)                                                                                        \n",
      "                                                                                                  \n",
      " block_2_expand (Conv2D)        (None, 56, 56, 144)  3456        ['block_1_project_BN[0][0]']     \n",
      "                                                                                                  \n",
      " block_2_expand_BN (BatchNormal  (None, 56, 56, 144)  576        ['block_2_expand[0][0]']         \n",
      " ization)                                                                                         \n",
      "                                                                                                  \n",
      " block_2_expand_relu (ReLU)     (None, 56, 56, 144)  0           ['block_2_expand_BN[0][0]']      \n",
      "                                                                                                  \n",
      " block_2_depthwise (DepthwiseCo  (None, 56, 56, 144)  1296       ['block_2_expand_relu[0][0]']    \n",
      " nv2D)                                                                                            \n",
      "                                                                                                  \n",
      " block_2_depthwise_BN (BatchNor  (None, 56, 56, 144)  576        ['block_2_depthwise[0][0]']      \n",
      " malization)                                                                                      \n",
      "                                                                                                  \n",
      " block_2_depthwise_relu (ReLU)  (None, 56, 56, 144)  0           ['block_2_depthwise_BN[0][0]']   \n",
      "                                                                                                  \n",
      " block_2_project (Conv2D)       (None, 56, 56, 24)   3456        ['block_2_depthwise_relu[0][0]'] \n",
      "                                                                                                  \n",
      " block_2_project_BN (BatchNorma  (None, 56, 56, 24)  96          ['block_2_project[0][0]']        \n",
      " lization)                                                                                        \n",
      "                                                                                                  \n",
      " block_2_add (Add)              (None, 56, 56, 24)   0           ['block_1_project_BN[0][0]',     \n",
      "                                                                  'block_2_project_BN[0][0]']     \n",
      "                                                                                                  \n",
      " block_3_expand (Conv2D)        (None, 56, 56, 144)  3456        ['block_2_add[0][0]']            \n",
      "                                                                                                  \n",
      " block_3_expand_BN (BatchNormal  (None, 56, 56, 144)  576        ['block_3_expand[0][0]']         \n",
      " ization)                                                                                         \n",
      "                                                                                                  \n",
      " block_3_expand_relu (ReLU)     (None, 56, 56, 144)  0           ['block_3_expand_BN[0][0]']      \n",
      "                                                                                                  \n",
      " block_3_pad (ZeroPadding2D)    (None, 57, 57, 144)  0           ['block_3_expand_relu[0][0]']    \n",
      "                                                                                                  \n",
      " block_3_depthwise (DepthwiseCo  (None, 28, 28, 144)  1296       ['block_3_pad[0][0]']            \n",
      " nv2D)                                                                                            \n",
      "                                                                                                  \n",
      " block_3_depthwise_BN (BatchNor  (None, 28, 28, 144)  576        ['block_3_depthwise[0][0]']      \n",
      " malization)                                                                                      \n",
      "                                                                                                  \n",
      " block_3_depthwise_relu (ReLU)  (None, 28, 28, 144)  0           ['block_3_depthwise_BN[0][0]']   \n",
      "                                                                                                  \n",
      " block_3_project (Conv2D)       (None, 28, 28, 32)   4608        ['block_3_depthwise_relu[0][0]'] \n",
      "                                                                                                  \n",
      " block_3_project_BN (BatchNorma  (None, 28, 28, 32)  128         ['block_3_project[0][0]']        \n",
      " lization)                                                                                        \n",
      "                                                                                                  \n",
      " block_4_expand (Conv2D)        (None, 28, 28, 192)  6144        ['block_3_project_BN[0][0]']     \n",
      "                                                                                                  \n",
      " block_4_expand_BN (BatchNormal  (None, 28, 28, 192)  768        ['block_4_expand[0][0]']         \n",
      " ization)                                                                                         \n",
      "                                                                                                  \n",
      " block_4_expand_relu (ReLU)     (None, 28, 28, 192)  0           ['block_4_expand_BN[0][0]']      \n",
      "                                                                                                  \n",
      " block_4_depthwise (DepthwiseCo  (None, 28, 28, 192)  1728       ['block_4_expand_relu[0][0]']    \n",
      " nv2D)                                                                                            \n",
      "                                                                                                  \n",
      " block_4_depthwise_BN (BatchNor  (None, 28, 28, 192)  768        ['block_4_depthwise[0][0]']      \n",
      " malization)                                                                                      \n",
      "                                                                                                  \n",
      " block_4_depthwise_relu (ReLU)  (None, 28, 28, 192)  0           ['block_4_depthwise_BN[0][0]']   \n",
      "                                                                                                  \n",
      " block_4_project (Conv2D)       (None, 28, 28, 32)   6144        ['block_4_depthwise_relu[0][0]'] \n",
      "                                                                                                  \n",
      " block_4_project_BN (BatchNorma  (None, 28, 28, 32)  128         ['block_4_project[0][0]']        \n",
      " lization)                                                                                        \n",
      "                                                                                                  \n",
      " block_4_add (Add)              (None, 28, 28, 32)   0           ['block_3_project_BN[0][0]',     \n",
      "                                                                  'block_4_project_BN[0][0]']     \n",
      "                                                                                                  \n",
      " block_5_expand (Conv2D)        (None, 28, 28, 192)  6144        ['block_4_add[0][0]']            \n",
      "                                                                                                  \n",
      " block_5_expand_BN (BatchNormal  (None, 28, 28, 192)  768        ['block_5_expand[0][0]']         \n",
      " ization)                                                                                         \n",
      "                                                                                                  \n",
      " block_5_expand_relu (ReLU)     (None, 28, 28, 192)  0           ['block_5_expand_BN[0][0]']      \n",
      "                                                                                                  \n",
      " block_5_depthwise (DepthwiseCo  (None, 28, 28, 192)  1728       ['block_5_expand_relu[0][0]']    \n",
      " nv2D)                                                                                            \n",
      "                                                                                                  \n",
      " block_5_depthwise_BN (BatchNor  (None, 28, 28, 192)  768        ['block_5_depthwise[0][0]']      \n",
      " malization)                                                                                      \n",
      "                                                                                                  \n",
      " block_5_depthwise_relu (ReLU)  (None, 28, 28, 192)  0           ['block_5_depthwise_BN[0][0]']   \n",
      "                                                                                                  \n",
      " block_5_project (Conv2D)       (None, 28, 28, 32)   6144        ['block_5_depthwise_relu[0][0]'] \n",
      "                                                                                                  \n",
      " block_5_project_BN (BatchNorma  (None, 28, 28, 32)  128         ['block_5_project[0][0]']        \n",
      " lization)                                                                                        \n",
      "                                                                                                  \n",
      " block_5_add (Add)              (None, 28, 28, 32)   0           ['block_4_add[0][0]',            \n",
      "                                                                  'block_5_project_BN[0][0]']     \n",
      "                                                                                                  \n",
      " block_6_expand (Conv2D)        (None, 28, 28, 192)  6144        ['block_5_add[0][0]']            \n",
      "                                                                                                  \n",
      " block_6_expand_BN (BatchNormal  (None, 28, 28, 192)  768        ['block_6_expand[0][0]']         \n",
      " ization)                                                                                         \n",
      "                                                                                                  \n",
      " block_6_expand_relu (ReLU)     (None, 28, 28, 192)  0           ['block_6_expand_BN[0][0]']      \n",
      "                                                                                                  \n",
      " block_6_pad (ZeroPadding2D)    (None, 29, 29, 192)  0           ['block_6_expand_relu[0][0]']    \n",
      "                                                                                                  \n",
      " block_6_depthwise (DepthwiseCo  (None, 14, 14, 192)  1728       ['block_6_pad[0][0]']            \n",
      " nv2D)                                                                                            \n",
      "                                                                                                  \n",
      " block_6_depthwise_BN (BatchNor  (None, 14, 14, 192)  768        ['block_6_depthwise[0][0]']      \n",
      " malization)                                                                                      \n",
      "                                                                                                  \n",
      " block_6_depthwise_relu (ReLU)  (None, 14, 14, 192)  0           ['block_6_depthwise_BN[0][0]']   \n",
      "                                                                                                  \n",
      " block_6_project (Conv2D)       (None, 14, 14, 64)   12288       ['block_6_depthwise_relu[0][0]'] \n",
      "                                                                                                  \n",
      " block_6_project_BN (BatchNorma  (None, 14, 14, 64)  256         ['block_6_project[0][0]']        \n",
      " lization)                                                                                        \n",
      "                                                                                                  \n",
      " block_7_expand (Conv2D)        (None, 14, 14, 384)  24576       ['block_6_project_BN[0][0]']     \n",
      "                                                                                                  \n",
      " block_7_expand_BN (BatchNormal  (None, 14, 14, 384)  1536       ['block_7_expand[0][0]']         \n",
      " ization)                                                                                         \n",
      "                                                                                                  \n",
      " block_7_expand_relu (ReLU)     (None, 14, 14, 384)  0           ['block_7_expand_BN[0][0]']      \n",
      "                                                                                                  \n",
      " block_7_depthwise (DepthwiseCo  (None, 14, 14, 384)  3456       ['block_7_expand_relu[0][0]']    \n",
      " nv2D)                                                                                            \n",
      "                                                                                                  \n",
      " block_7_depthwise_BN (BatchNor  (None, 14, 14, 384)  1536       ['block_7_depthwise[0][0]']      \n",
      " malization)                                                                                      \n",
      "                                                                                                  \n",
      " block_7_depthwise_relu (ReLU)  (None, 14, 14, 384)  0           ['block_7_depthwise_BN[0][0]']   \n",
      "                                                                                                  \n",
      " block_7_project (Conv2D)       (None, 14, 14, 64)   24576       ['block_7_depthwise_relu[0][0]'] \n",
      "                                                                                                  \n",
      " block_7_project_BN (BatchNorma  (None, 14, 14, 64)  256         ['block_7_project[0][0]']        \n",
      " lization)                                                                                        \n",
      "                                                                                                  \n",
      " block_7_add (Add)              (None, 14, 14, 64)   0           ['block_6_project_BN[0][0]',     \n",
      "                                                                  'block_7_project_BN[0][0]']     \n",
      "                                                                                                  \n",
      " block_8_expand (Conv2D)        (None, 14, 14, 384)  24576       ['block_7_add[0][0]']            \n",
      "                                                                                                  \n",
      " block_8_expand_BN (BatchNormal  (None, 14, 14, 384)  1536       ['block_8_expand[0][0]']         \n",
      " ization)                                                                                         \n",
      "                                                                                                  \n",
      " block_8_expand_relu (ReLU)     (None, 14, 14, 384)  0           ['block_8_expand_BN[0][0]']      \n",
      "                                                                                                  \n",
      " block_8_depthwise (DepthwiseCo  (None, 14, 14, 384)  3456       ['block_8_expand_relu[0][0]']    \n",
      " nv2D)                                                                                            \n",
      "                                                                                                  \n",
      " block_8_depthwise_BN (BatchNor  (None, 14, 14, 384)  1536       ['block_8_depthwise[0][0]']      \n",
      " malization)                                                                                      \n",
      "                                                                                                  \n",
      " block_8_depthwise_relu (ReLU)  (None, 14, 14, 384)  0           ['block_8_depthwise_BN[0][0]']   \n",
      "                                                                                                  \n",
      " block_8_project (Conv2D)       (None, 14, 14, 64)   24576       ['block_8_depthwise_relu[0][0]'] \n",
      "                                                                                                  \n",
      " block_8_project_BN (BatchNorma  (None, 14, 14, 64)  256         ['block_8_project[0][0]']        \n",
      " lization)                                                                                        \n",
      "                                                                                                  \n",
      " block_8_add (Add)              (None, 14, 14, 64)   0           ['block_7_add[0][0]',            \n",
      "                                                                  'block_8_project_BN[0][0]']     \n",
      "                                                                                                  \n",
      " block_9_expand (Conv2D)        (None, 14, 14, 384)  24576       ['block_8_add[0][0]']            \n",
      "                                                                                                  \n",
      " block_9_expand_BN (BatchNormal  (None, 14, 14, 384)  1536       ['block_9_expand[0][0]']         \n",
      " ization)                                                                                         \n",
      "                                                                                                  \n",
      " block_9_expand_relu (ReLU)     (None, 14, 14, 384)  0           ['block_9_expand_BN[0][0]']      \n",
      "                                                                                                  \n",
      " block_9_depthwise (DepthwiseCo  (None, 14, 14, 384)  3456       ['block_9_expand_relu[0][0]']    \n",
      " nv2D)                                                                                            \n",
      "                                                                                                  \n",
      " block_9_depthwise_BN (BatchNor  (None, 14, 14, 384)  1536       ['block_9_depthwise[0][0]']      \n",
      " malization)                                                                                      \n",
      "                                                                                                  \n",
      " block_9_depthwise_relu (ReLU)  (None, 14, 14, 384)  0           ['block_9_depthwise_BN[0][0]']   \n",
      "                                                                                                  \n",
      " block_9_project (Conv2D)       (None, 14, 14, 64)   24576       ['block_9_depthwise_relu[0][0]'] \n",
      "                                                                                                  \n",
      " block_9_project_BN (BatchNorma  (None, 14, 14, 64)  256         ['block_9_project[0][0]']        \n",
      " lization)                                                                                        \n",
      "                                                                                                  \n",
      " block_9_add (Add)              (None, 14, 14, 64)   0           ['block_8_add[0][0]',            \n",
      "                                                                  'block_9_project_BN[0][0]']     \n",
      "                                                                                                  \n",
      " block_10_expand (Conv2D)       (None, 14, 14, 384)  24576       ['block_9_add[0][0]']            \n",
      "                                                                                                  \n",
      " block_10_expand_BN (BatchNorma  (None, 14, 14, 384)  1536       ['block_10_expand[0][0]']        \n",
      " lization)                                                                                        \n",
      "                                                                                                  \n",
      " block_10_expand_relu (ReLU)    (None, 14, 14, 384)  0           ['block_10_expand_BN[0][0]']     \n",
      "                                                                                                  \n",
      " block_10_depthwise (DepthwiseC  (None, 14, 14, 384)  3456       ['block_10_expand_relu[0][0]']   \n",
      " onv2D)                                                                                           \n",
      "                                                                                                  \n",
      " block_10_depthwise_BN (BatchNo  (None, 14, 14, 384)  1536       ['block_10_depthwise[0][0]']     \n",
      " rmalization)                                                                                     \n",
      "                                                                                                  \n",
      " block_10_depthwise_relu (ReLU)  (None, 14, 14, 384)  0          ['block_10_depthwise_BN[0][0]']  \n",
      "                                                                                                  \n",
      " block_10_project (Conv2D)      (None, 14, 14, 96)   36864       ['block_10_depthwise_relu[0][0]']\n",
      "                                                                                                  \n",
      " block_10_project_BN (BatchNorm  (None, 14, 14, 96)  384         ['block_10_project[0][0]']       \n",
      " alization)                                                                                       \n",
      "                                                                                                  \n",
      " block_11_expand (Conv2D)       (None, 14, 14, 576)  55296       ['block_10_project_BN[0][0]']    \n",
      "                                                                                                  \n",
      " block_11_expand_BN (BatchNorma  (None, 14, 14, 576)  2304       ['block_11_expand[0][0]']        \n",
      " lization)                                                                                        \n",
      "                                                                                                  \n",
      " block_11_expand_relu (ReLU)    (None, 14, 14, 576)  0           ['block_11_expand_BN[0][0]']     \n",
      "                                                                                                  \n",
      " block_11_depthwise (DepthwiseC  (None, 14, 14, 576)  5184       ['block_11_expand_relu[0][0]']   \n",
      " onv2D)                                                                                           \n",
      "                                                                                                  \n",
      " block_11_depthwise_BN (BatchNo  (None, 14, 14, 576)  2304       ['block_11_depthwise[0][0]']     \n",
      " rmalization)                                                                                     \n",
      "                                                                                                  \n",
      " block_11_depthwise_relu (ReLU)  (None, 14, 14, 576)  0          ['block_11_depthwise_BN[0][0]']  \n",
      "                                                                                                  \n",
      " block_11_project (Conv2D)      (None, 14, 14, 96)   55296       ['block_11_depthwise_relu[0][0]']\n",
      "                                                                                                  \n",
      " block_11_project_BN (BatchNorm  (None, 14, 14, 96)  384         ['block_11_project[0][0]']       \n",
      " alization)                                                                                       \n",
      "                                                                                                  \n",
      " block_11_add (Add)             (None, 14, 14, 96)   0           ['block_10_project_BN[0][0]',    \n",
      "                                                                  'block_11_project_BN[0][0]']    \n",
      "                                                                                                  \n",
      " block_12_expand (Conv2D)       (None, 14, 14, 576)  55296       ['block_11_add[0][0]']           \n",
      "                                                                                                  \n",
      " block_12_expand_BN (BatchNorma  (None, 14, 14, 576)  2304       ['block_12_expand[0][0]']        \n",
      " lization)                                                                                        \n",
      "                                                                                                  \n",
      " block_12_expand_relu (ReLU)    (None, 14, 14, 576)  0           ['block_12_expand_BN[0][0]']     \n",
      "                                                                                                  \n",
      " block_12_depthwise (DepthwiseC  (None, 14, 14, 576)  5184       ['block_12_expand_relu[0][0]']   \n",
      " onv2D)                                                                                           \n",
      "                                                                                                  \n",
      " block_12_depthwise_BN (BatchNo  (None, 14, 14, 576)  2304       ['block_12_depthwise[0][0]']     \n",
      " rmalization)                                                                                     \n",
      "                                                                                                  \n",
      " block_12_depthwise_relu (ReLU)  (None, 14, 14, 576)  0          ['block_12_depthwise_BN[0][0]']  \n",
      "                                                                                                  \n",
      " block_12_project (Conv2D)      (None, 14, 14, 96)   55296       ['block_12_depthwise_relu[0][0]']\n",
      "                                                                                                  \n",
      " block_12_project_BN (BatchNorm  (None, 14, 14, 96)  384         ['block_12_project[0][0]']       \n",
      " alization)                                                                                       \n",
      "                                                                                                  \n",
      " block_12_add (Add)             (None, 14, 14, 96)   0           ['block_11_add[0][0]',           \n",
      "                                                                  'block_12_project_BN[0][0]']    \n",
      "                                                                                                  \n",
      " block_13_expand (Conv2D)       (None, 14, 14, 576)  55296       ['block_12_add[0][0]']           \n",
      "                                                                                                  \n",
      " block_13_expand_BN (BatchNorma  (None, 14, 14, 576)  2304       ['block_13_expand[0][0]']        \n",
      " lization)                                                                                        \n",
      "                                                                                                  \n",
      " block_13_expand_relu (ReLU)    (None, 14, 14, 576)  0           ['block_13_expand_BN[0][0]']     \n",
      "                                                                                                  \n",
      " block_13_pad (ZeroPadding2D)   (None, 15, 15, 576)  0           ['block_13_expand_relu[0][0]']   \n",
      "                                                                                                  \n",
      " block_13_depthwise (DepthwiseC  (None, 7, 7, 576)   5184        ['block_13_pad[0][0]']           \n",
      " onv2D)                                                                                           \n",
      "                                                                                                  \n",
      " block_13_depthwise_BN (BatchNo  (None, 7, 7, 576)   2304        ['block_13_depthwise[0][0]']     \n",
      " rmalization)                                                                                     \n",
      "                                                                                                  \n",
      " block_13_depthwise_relu (ReLU)  (None, 7, 7, 576)   0           ['block_13_depthwise_BN[0][0]']  \n",
      "                                                                                                  \n",
      " block_13_project (Conv2D)      (None, 7, 7, 160)    92160       ['block_13_depthwise_relu[0][0]']\n",
      "                                                                                                  \n",
      " block_13_project_BN (BatchNorm  (None, 7, 7, 160)   640         ['block_13_project[0][0]']       \n",
      " alization)                                                                                       \n",
      "                                                                                                  \n",
      " block_14_expand (Conv2D)       (None, 7, 7, 960)    153600      ['block_13_project_BN[0][0]']    \n",
      "                                                                                                  \n",
      " block_14_expand_BN (BatchNorma  (None, 7, 7, 960)   3840        ['block_14_expand[0][0]']        \n",
      " lization)                                                                                        \n",
      "                                                                                                  \n",
      " block_14_expand_relu (ReLU)    (None, 7, 7, 960)    0           ['block_14_expand_BN[0][0]']     \n",
      "                                                                                                  \n",
      " block_14_depthwise (DepthwiseC  (None, 7, 7, 960)   8640        ['block_14_expand_relu[0][0]']   \n",
      " onv2D)                                                                                           \n",
      "                                                                                                  \n",
      " block_14_depthwise_BN (BatchNo  (None, 7, 7, 960)   3840        ['block_14_depthwise[0][0]']     \n",
      " rmalization)                                                                                     \n",
      "                                                                                                  \n",
      " block_14_depthwise_relu (ReLU)  (None, 7, 7, 960)   0           ['block_14_depthwise_BN[0][0]']  \n",
      "                                                                                                  \n",
      " block_14_project (Conv2D)      (None, 7, 7, 160)    153600      ['block_14_depthwise_relu[0][0]']\n",
      "                                                                                                  \n",
      " block_14_project_BN (BatchNorm  (None, 7, 7, 160)   640         ['block_14_project[0][0]']       \n",
      " alization)                                                                                       \n",
      "                                                                                                  \n",
      " block_14_add (Add)             (None, 7, 7, 160)    0           ['block_13_project_BN[0][0]',    \n",
      "                                                                  'block_14_project_BN[0][0]']    \n",
      "                                                                                                  \n",
      " block_15_expand (Conv2D)       (None, 7, 7, 960)    153600      ['block_14_add[0][0]']           \n",
      "                                                                                                  \n",
      " block_15_expand_BN (BatchNorma  (None, 7, 7, 960)   3840        ['block_15_expand[0][0]']        \n",
      " lization)                                                                                        \n",
      "                                                                                                  \n",
      " block_15_expand_relu (ReLU)    (None, 7, 7, 960)    0           ['block_15_expand_BN[0][0]']     \n",
      "                                                                                                  \n",
      " block_15_depthwise (DepthwiseC  (None, 7, 7, 960)   8640        ['block_15_expand_relu[0][0]']   \n",
      " onv2D)                                                                                           \n",
      "                                                                                                  \n",
      " block_15_depthwise_BN (BatchNo  (None, 7, 7, 960)   3840        ['block_15_depthwise[0][0]']     \n",
      " rmalization)                                                                                     \n",
      "                                                                                                  \n",
      " block_15_depthwise_relu (ReLU)  (None, 7, 7, 960)   0           ['block_15_depthwise_BN[0][0]']  \n",
      "                                                                                                  \n",
      " block_15_project (Conv2D)      (None, 7, 7, 160)    153600      ['block_15_depthwise_relu[0][0]']\n",
      "                                                                                                  \n",
      " block_15_project_BN (BatchNorm  (None, 7, 7, 160)   640         ['block_15_project[0][0]']       \n",
      " alization)                                                                                       \n",
      "                                                                                                  \n",
      " block_15_add (Add)             (None, 7, 7, 160)    0           ['block_14_add[0][0]',           \n",
      "                                                                  'block_15_project_BN[0][0]']    \n",
      "                                                                                                  \n",
      " block_16_expand (Conv2D)       (None, 7, 7, 960)    153600      ['block_15_add[0][0]']           \n",
      "                                                                                                  \n",
      " block_16_expand_BN (BatchNorma  (None, 7, 7, 960)   3840        ['block_16_expand[0][0]']        \n",
      " lization)                                                                                        \n",
      "                                                                                                  \n",
      " block_16_expand_relu (ReLU)    (None, 7, 7, 960)    0           ['block_16_expand_BN[0][0]']     \n",
      "                                                                                                  \n",
      " block_16_depthwise (DepthwiseC  (None, 7, 7, 960)   8640        ['block_16_expand_relu[0][0]']   \n",
      " onv2D)                                                                                           \n",
      "                                                                                                  \n",
      " block_16_depthwise_BN (BatchNo  (None, 7, 7, 960)   3840        ['block_16_depthwise[0][0]']     \n",
      " rmalization)                                                                                     \n",
      "                                                                                                  \n",
      " block_16_depthwise_relu (ReLU)  (None, 7, 7, 960)   0           ['block_16_depthwise_BN[0][0]']  \n",
      "                                                                                                  \n",
      " block_16_project (Conv2D)      (None, 7, 7, 320)    307200      ['block_16_depthwise_relu[0][0]']\n",
      "                                                                                                  \n",
      " block_16_project_BN (BatchNorm  (None, 7, 7, 320)   1280        ['block_16_project[0][0]']       \n",
      " alization)                                                                                       \n",
      "                                                                                                  \n",
      " Conv_1 (Conv2D)                (None, 7, 7, 1280)   409600      ['block_16_project_BN[0][0]']    \n",
      "                                                                                                  \n",
      " Conv_1_bn (BatchNormalization)  (None, 7, 7, 1280)  5120        ['Conv_1[0][0]']                 \n",
      "                                                                                                  \n",
      " out_relu (ReLU)                (None, 7, 7, 1280)   0           ['Conv_1_bn[0][0]']              \n",
      "                                                                                                  \n",
      " global_average_pooling2d_1 (Gl  (None, 1280)        0           ['out_relu[0][0]']               \n",
      " obalAveragePooling2D)                                                                            \n",
      "                                                                                                  \n",
      " dense_4 (Dense)                (None, 1024)         1311744     ['global_average_pooling2d_1[0][0\n",
      "                                                                 ]']                              \n",
      "                                                                                                  \n",
      " dense_5 (Dense)                (None, 1024)         1049600     ['dense_4[0][0]']                \n",
      "                                                                                                  \n",
      " dense_6 (Dense)                (None, 512)          524800      ['dense_5[0][0]']                \n",
      "                                                                                                  \n",
      " dense_7 (Dense)                (None, 6)            3078        ['dense_6[0][0]']                \n",
      "                                                                                                  \n",
      "==================================================================================================\n",
      "Total params: 5,147,206\n",
      "Trainable params: 2,889,222\n",
      "Non-trainable params: 2,257,984\n",
      "__________________________________________________________________________________________________\n"
     ]
    }
   ],
   "source": [
    "model.compile(optimizer=tf.keras.optimizers.Adam(0.0001), \n",
    "              loss='categorical_crossentropy', \n",
    "              metrics=['accuracy'])\n",
    "\n",
    "model.summary()"
   ]
  },
  {
   "cell_type": "code",
   "execution_count": 45,
   "metadata": {},
   "outputs": [],
   "source": [
    "class myCallback(tf.keras.callbacks.Callback):\n",
    "    def on_epoch_end(self, epoch, logs={}):\n",
    "        if(logs.get('accuracy') > 0.97):\n",
    "            self.model.stop_training = True\n",
    "\n",
    "callbacks = myCallback()"
   ]
  },
  {
   "cell_type": "code",
   "execution_count": 46,
   "metadata": {
    "colab": {
     "base_uri": "https://localhost:8080/"
    },
    "id": "yqjNpod_SX-x",
    "outputId": "e2f58687-e7a3-40e1-bbd5-2416cfd8e391"
   },
   "outputs": [
    {
     "name": "stdout",
     "output_type": "stream",
     "text": [
      "Epoch 1/30\n",
      "5/5 [==============================] - 21s 3s/step - loss: 1.5474 - accuracy: 0.5134 - val_loss: 1.0848 - val_accuracy: 0.7188\n",
      "Epoch 2/30\n",
      "5/5 [==============================] - 12s 2s/step - loss: 0.9343 - accuracy: 0.7931 - val_loss: 0.7544 - val_accuracy: 0.8750\n",
      "Epoch 3/30\n",
      "5/5 [==============================] - 12s 2s/step - loss: 0.6915 - accuracy: 0.8161 - val_loss: 0.5421 - val_accuracy: 0.9375\n",
      "Epoch 4/30\n",
      "5/5 [==============================] - 12s 2s/step - loss: 0.5014 - accuracy: 0.8736 - val_loss: 0.4565 - val_accuracy: 0.9062\n",
      "Epoch 5/30\n",
      "5/5 [==============================] - 12s 3s/step - loss: 0.3948 - accuracy: 0.8812 - val_loss: 0.3359 - val_accuracy: 0.8750\n",
      "Epoch 6/30\n",
      "5/5 [==============================] - 12s 2s/step - loss: 0.3417 - accuracy: 0.8774 - val_loss: 0.2784 - val_accuracy: 0.9375\n",
      "Epoch 7/30\n",
      "5/5 [==============================] - 11s 3s/step - loss: 0.2755 - accuracy: 0.9157 - val_loss: 0.2569 - val_accuracy: 0.8750\n",
      "Epoch 8/30\n",
      "5/5 [==============================] - 12s 3s/step - loss: 0.2741 - accuracy: 0.9310 - val_loss: 0.2681 - val_accuracy: 0.9375\n",
      "Epoch 9/30\n",
      "5/5 [==============================] - 12s 2s/step - loss: 0.2354 - accuracy: 0.9272 - val_loss: 0.2707 - val_accuracy: 0.8750\n",
      "Epoch 10/30\n",
      "5/5 [==============================] - 12s 3s/step - loss: 0.1886 - accuracy: 0.9387 - val_loss: 0.2515 - val_accuracy: 0.9375\n",
      "Epoch 11/30\n",
      "5/5 [==============================] - 12s 3s/step - loss: 0.1824 - accuracy: 0.9425 - val_loss: 0.2123 - val_accuracy: 0.9062\n",
      "Epoch 12/30\n",
      "5/5 [==============================] - 11s 3s/step - loss: 0.1820 - accuracy: 0.9349 - val_loss: 0.1690 - val_accuracy: 0.9375\n",
      "Epoch 13/30\n",
      "5/5 [==============================] - 12s 2s/step - loss: 0.1713 - accuracy: 0.9502 - val_loss: 0.1719 - val_accuracy: 0.9688\n",
      "Epoch 14/30\n",
      "5/5 [==============================] - 12s 2s/step - loss: 0.2018 - accuracy: 0.9119 - val_loss: 0.1670 - val_accuracy: 0.9688\n",
      "Epoch 15/30\n",
      "5/5 [==============================] - 12s 2s/step - loss: 0.1473 - accuracy: 0.9540 - val_loss: 0.1327 - val_accuracy: 0.9375\n",
      "Epoch 16/30\n",
      "5/5 [==============================] - 11s 3s/step - loss: 0.1751 - accuracy: 0.9425 - val_loss: 0.1424 - val_accuracy: 0.9375\n",
      "Epoch 17/30\n",
      "5/5 [==============================] - 12s 2s/step - loss: 0.1691 - accuracy: 0.9349 - val_loss: 0.1848 - val_accuracy: 0.9375\n",
      "Epoch 18/30\n",
      "5/5 [==============================] - 12s 2s/step - loss: 0.1268 - accuracy: 0.9655 - val_loss: 0.1306 - val_accuracy: 0.9375\n",
      "Epoch 19/30\n",
      "5/5 [==============================] - 12s 2s/step - loss: 0.1463 - accuracy: 0.9579 - val_loss: 0.1220 - val_accuracy: 0.9688\n",
      "Epoch 20/30\n",
      "5/5 [==============================] - 12s 2s/step - loss: 0.0972 - accuracy: 0.9693 - val_loss: 0.1102 - val_accuracy: 0.9375\n",
      "Epoch 21/30\n",
      "5/5 [==============================] - 12s 2s/step - loss: 0.1237 - accuracy: 0.9617 - val_loss: 0.1111 - val_accuracy: 0.9688\n",
      "Epoch 22/30\n",
      "5/5 [==============================] - 12s 3s/step - loss: 0.1174 - accuracy: 0.9502 - val_loss: 0.1327 - val_accuracy: 0.9375\n",
      "Epoch 23/30\n",
      "5/5 [==============================] - 12s 2s/step - loss: 0.1153 - accuracy: 0.9579 - val_loss: 0.1282 - val_accuracy: 0.9688\n",
      "Epoch 24/30\n",
      "5/5 [==============================] - 12s 2s/step - loss: 0.0993 - accuracy: 0.9732 - val_loss: 0.1713 - val_accuracy: 0.9375\n"
     ]
    }
   ],
   "source": [
    "hist = model.fit(train_generator, epochs=30, validation_data = val_generator, verbose = 1, callbacks=[callbacks])"
   ]
  },
  {
   "cell_type": "code",
   "execution_count": 47,
   "metadata": {},
   "outputs": [
    {
     "name": "stdout",
     "output_type": "stream",
     "text": [
      "2/2 [==============================] - 2s 865ms/step - loss: 0.1792 - accuracy: 0.9194\n",
      "Loss of the model is -  0.17915590107440948\n",
      "2/2 [==============================] - 2s 857ms/step - loss: 0.1792 - accuracy: 0.9194\n",
      "Accuracy of the model is -  91.93548560142517 %\n",
      "2/2 [==============================] - 3s 845ms/step\n",
      "              precision    recall  f1-score   support\n",
      "\n",
      "   blackhead       0.91      1.00      0.95        10\n",
      "       nodul       1.00      0.82      0.90        11\n",
      "      normal       1.00      1.00      1.00        10\n",
      "      papula       1.00      0.70      0.82        10\n",
      "     pustula       0.83      1.00      0.91        10\n",
      "   whitehead       0.85      1.00      0.92        11\n",
      "\n",
      "    accuracy                           0.92        62\n",
      "   macro avg       0.93      0.92      0.92        62\n",
      "weighted avg       0.93      0.92      0.92        62\n",
      "\n"
     ]
    }
   ],
   "source": [
    "X, y = test_generator.next()\n",
    "classes_ind = test_generator.class_indices\n",
    "labels = list(classes_ind.keys())\n",
    "print('Loss of the model is - ', model.evaluate(X, y)[0])\n",
    "print('Accuracy of the model is - ', model.evaluate(X, y)[1]*100, '%')\n",
    "\n",
    "predict = model.predict(X)\n",
    "predict = np.argmax(predict, axis=1)\n",
    "predict = predict.reshape(1, -1)[0]\n",
    "y_label = np.argmax(y, axis=1)\n",
    "report = classification_report(y_label, predict, target_names =labels)\n",
    "print(report)"
   ]
  },
  {
   "cell_type": "code",
   "execution_count": 55,
   "metadata": {
    "colab": {
     "base_uri": "https://localhost:8080/",
     "height": 545
    },
    "id": "5f9E5-l4cGfB",
    "outputId": "d84f6b27-185d-4ae0-e9e6-2ca593326ebb"
   },
   "outputs": [
    {
     "data": {
      "image/png": "[encoded data removed]",
      "text/plain": [
       "<Figure size 432x288 with 1 Axes>"
      ]
     },
     "metadata": {
      "needs_background": "light"
     },
     "output_type": "display_data"
    },
    {
     "data": {
      "image/png": "[encoded data removed]",
      "text/plain": [
       "<Figure size 432x288 with 1 Axes>"
      ]
     },
     "metadata": {
      "needs_background": "light"
     },
     "output_type": "display_data"
    }
   ],
   "source": [
    "acc = hist.history['accuracy']\n",
    "val_acc = hist.history['val_accuracy']\n",
    "loss = hist.history['loss']\n",
    "val_loss = hist.history['val_loss']\n",
    "\n",
    "epochs = range(len(acc))\n",
    "\n",
    "plt.plot(epochs, acc, 'r', label='Training accuracy')\n",
    "plt.plot(epochs, val_acc, 'b', label='Validation accuracy')\n",
    "plt.title('Training and validation accuracy')\n",
    "plt.legend()\n",
    "plt.figure()\n",
    "\n",
    "plt.plot(epochs, loss, 'r', label='Training loss')\n",
    "plt.plot(epochs, val_loss, 'b', label='Validation loss')\n",
    "plt.title('Training and validation loss')\n",
    "plt.legend()\n",
    "\n",
    "plt.show()"
   ]
  },
  {
   "cell_type": "code",
   "execution_count": 56,
   "metadata": {
    "id": "K29_sbs7cnl6"
   },
   "outputs": [],
   "source": [
    "saved_model_path = \"./Model/model_new.h5\"\n",
    "\n",
    "model.save(saved_model_path)"
   ]
  },
  {
   "cell_type": "code",
   "execution_count": 57,
   "metadata": {
    "id": "txBPYu0_r7sJ"
   },
   "outputs": [
    {
     "name": "stderr",
     "output_type": "stream",
     "text": [
      "WARNING:absl:Found untraced functions such as _jit_compiled_convolution_op, _jit_compiled_convolution_op, _jit_compiled_convolution_op, _jit_compiled_convolution_op, _jit_compiled_convolution_op while saving (showing 5 of 52). These functions will not be directly callable after loading.\n"
     ]
    },
    {
     "name": "stdout",
     "output_type": "stream",
     "text": [
      "INFO:tensorflow:Assets written to: /tmp/tmpgtz47fl6/assets\n"
     ]
    },
    {
     "name": "stderr",
     "output_type": "stream",
     "text": [
      "INFO:tensorflow:Assets written to: /tmp/tmpgtz47fl6/assets\n",
      "2022-06-11 12:57:39.205956: W tensorflow/compiler/mlir/lite/python/tf_tfl_flatbuffer_helpers.cc:362] Ignored output_format.\n",
      "2022-06-11 12:57:39.206012: W tensorflow/compiler/mlir/lite/python/tf_tfl_flatbuffer_helpers.cc:365] Ignored drop_control_dependency.\n",
      "2022-06-11 12:57:39.207508: I tensorflow/cc/saved_model/reader.cc:43] Reading SavedModel from: /tmp/tmpgtz47fl6\n",
      "2022-06-11 12:57:39.243092: I tensorflow/cc/saved_model/reader.cc:81] Reading meta graph with tags { serve }\n",
      "2022-06-11 12:57:39.243146: I tensorflow/cc/saved_model/reader.cc:122] Reading SavedModel debug info (if present) from: /tmp/tmpgtz47fl6\n",
      "2022-06-11 12:57:39.376782: I tensorflow/cc/saved_model/loader.cc:228] Restoring SavedModel bundle.\n",
      "2022-06-11 12:57:40.044449: I tensorflow/cc/saved_model/loader.cc:212] Running initialization op on SavedModel bundle at path: /tmp/tmpgtz47fl6\n",
      "2022-06-11 12:57:40.311669: I tensorflow/cc/saved_model/loader.cc:301] SavedModel load for tags { serve }; Status: success: OK. Took 1105236 microseconds.\n"
     ]
    }
   ],
   "source": [
    "converter = tf.lite.TFLiteConverter.from_keras_model(model)\n",
    "tflite_model = converter.convert()"
   ]
  },
  {
   "cell_type": "code",
   "execution_count": 58,
   "metadata": {
    "id": "ELOhoULdr_3T"
   },
   "outputs": [
    {
     "data": {
      "text/plain": [
       "20417816"
      ]
     },
     "execution_count": 58,
     "metadata": {},
     "output_type": "execute_result"
    }
   ],
   "source": [
    "tflite_model_file = pathlib.Path('./Model/model_new.tflite')\n",
    "tflite_model_file.write_bytes(tflite_model)"
   ]
  },
  {
   "cell_type": "code",
   "execution_count": null,
   "metadata": {},
   "outputs": [],
   "source": []
  }
 ],
 "metadata": {
  "colab": {
   "collapsed_sections": [],
   "name": "capstone_bangkit.ipynb",
   "provenance": []
  },
  "kernelspec": {
   "display_name": "Python 3 (ipykernel)",
   "language": "python",
   "name": "python3"
  },
  "language_info": {
   "codemirror_mode": {
    "name": "ipython",
    "version": 3
   },
   "file_extension": ".py",
   "mimetype": "text/x-python",
   "name": "python",
   "nbconvert_exporter": "python",
   "pygments_lexer": "ipython3",
   "version": "3.9.12"
  }
 },
 "nbformat": 4,
 "nbformat_minor": 1
}
