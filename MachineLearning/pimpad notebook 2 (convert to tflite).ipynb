{
 "cells": [
  {
   "cell_type": "code",
   "execution_count": null,
   "metadata": {
    "colab": {
     "base_uri": "https://localhost:8080/"
    },
    "id": "3chUkGJoAjpY",
    "outputId": "f5a9c4a8-2549-474c-cad2-24c5b1e26537"
   },
   "outputs": [
    {
     "name": "stdout",
     "output_type": "stream",
     "text": [
      "TensorFlow : 2.8.0\n"
     ]
    }
   ],
   "source": [
    "import tensorflow as tf\n",
    "print('TensorFlow :', tf.__version__)"
   ]
  },
  {
   "cell_type": "code",
   "execution_count": null,
   "metadata": {
    "id": "R71YqWI6AwzN"
   },
   "outputs": [],
   "source": [
    "from tensorflow.keras.preprocessing.image import ImageDataGenerator\n",
    "from tensorflow.keras.preprocessing import image_dataset_from_directory\n",
    "from tensorflow.keras import layers\n",
    "from tensorflow.keras import Model\n",
    "from keras_preprocessing import image\n",
    "from shutil import copyfile\n",
    "from google.colab import files\n",
    "\n",
    "import zipfile\n",
    "import matplotlib.pyplot as plt\n",
    "import numpy as np\n",
    "import os"
   ]
  },
  {
   "cell_type": "code",
   "execution_count": null,
   "metadata": {
    "colab": {
     "base_uri": "https://localhost:8080/"
    },
    "id": "2o7rBhiSA1uu",
    "outputId": "2a6c90ba-950d-44a8-a1e3-0a4abf57deb3"
   },
   "outputs": [
    {
     "name": "stdout",
     "output_type": "stream",
     "text": [
      "Drive already mounted at /content/drive; to attempt to forcibly remount, call drive.mount(\"/content/drive\", force_remount=True).\n"
     ]
    }
   ],
   "source": [
    "from google.colab import drive\n",
    "drive.mount('/content/drive')"
   ]
  },
  {
   "cell_type": "code",
   "execution_count": null,
   "metadata": {
    "colab": {
     "base_uri": "https://localhost:8080/"
    },
    "id": "qzAnj9cpA8rN",
    "outputId": "c8afe674-2b1a-44ca-e792-9d09e737f6e7"
   },
   "outputs": [
    {
     "data": {
      "text/plain": [
       "['Papule', 'Whitehead', 'Pustules', 'Blackhead', 'Nodules']"
      ]
     },
     "execution_count": 6,
     "metadata": {},
     "output_type": "execute_result"
    }
   ],
   "source": [
    "DATASET_PATH = '/content/drive/MyDrive/acne'\n",
    "\n",
    "os.listdir(DATASET_PATH)"
   ]
  },
  {
   "cell_type": "code",
   "execution_count": null,
   "metadata": {
    "colab": {
     "base_uri": "https://localhost:8080/"
    },
    "id": "Kmv3sIIdEFip",
    "outputId": "136777b3-a37e-4630-ba1c-c13e68346038"
   },
   "outputs": [
    {
     "name": "stdout",
     "output_type": "stream",
     "text": [
      "Papula: 50\n",
      "Whitehead: 56\n",
      "Pustula: 129\n",
      "Blackhead: 51\n",
      "Nodule: 59\n"
     ]
    }
   ],
   "source": [
    "print('Papula:', len(os.listdir('/content/drive/MyDrive/acne/Papule')))\n",
    "print('Whitehead:', len(os.listdir('/content/drive/MyDrive/acne/Whitehead')))\n",
    "print('Pustula:', len(os.listdir('/content/drive/MyDrive/acne/Pustules/')))\n",
    "print('Blackhead:', len(os.listdir('/content/drive/MyDrive/acne/Blackhead/')))\n",
    "print('Nodule:', len(os.listdir('/content/drive/MyDrive/acne/Nodules/')))"
   ]
  },
  {
   "cell_type": "code",
   "execution_count": null,
   "metadata": {
    "id": "xAx393L5CA51"
   },
   "outputs": [],
   "source": [
    "try:\n",
    "    os.mkdir('/content/drive/MyDrive/dataset/acne')\n",
    "    os.mkdir(os.path.join('/content/drive/MyDrive/dataset/acne', 'training'))\n",
    "    os.mkdir(os.path.join('/content/drive/MyDrive/dataset/acne', 'testing'))\n",
    "    os.mkdir(os.path.join('/content/drive/MyDrive/dataset/acne/training', 'papula'))\n",
    "    os.mkdir(os.path.join('/content/drive/MyDrive/dataset/acne/training', 'whitehead'))\n",
    "    os.mkdir(os.path.join('/content/drive/MyDrive/dataset/acne/training', 'pustula'))\n",
    "    os.mkdir(os.path.join('/content/drive/MyDrive/dataset/acne/training', 'blackhead'))\n",
    "    os.mkdir(os.path.join('/content/drive/MyDrive/dataset/acne/training', 'nodul'))\n",
    "    os.mkdir(os.path.join('/content/drive/MyDrive/dataset/acne/testing', 'papula'))\n",
    "    os.mkdir(os.path.join('/content/drive/MyDrive/dataset/acne/testing', 'whitehead'))\n",
    "    os.mkdir(os.path.join('/content/drive/MyDrive/dataset/acne/testing', 'pustula'))\n",
    "    os.mkdir(os.path.join('/content/drive/MyDrive/dataset/acne/testing', 'blackhead'))\n",
    "    os.mkdir(os.path.join('/content/drive/MyDrive/dataset/acne/testing', 'nodul'))\n",
    "except OSError:\n",
    "    pass"
   ]
  },
  {
   "cell_type": "code",
   "execution_count": null,
   "metadata": {
    "id": "caLUZzP6EABb"
   },
   "outputs": [],
   "source": [
    "def split_data(SOURCE, TRAINING, TESTING, VALIDATION, SPLIT_SIZE):\n",
    "    # YOUR CODE STARTS HERE\n",
    "    if not os.path.exists(TRAINING): \n",
    "        os.makedirs(TRAINING) \n",
    "                \n",
    "    if not os.path.exists(TESTING): \n",
    "        os.makedirs(TESTING) \n",
    "\n",
    "    if not os.path.exists(VALIDATION): \n",
    "        os.makedirs(VALIDATION)\n",
    "\n",
    "    file_names = os.listdir(SOURCE) \n",
    "    file_number = len(file_names) \n",
    "\n",
    "    for index, file in enumerate(file_names): \n",
    "        if index < SPLIT_SIZE * file_number: \n",
    "          if index < 0.8 * file_number:\n",
    "            copyfile(os.path.join(SOURCE, file), os.path.join(TRAINING, file))\n",
    "          else:\n",
    "            copyfile(os.path.join(SOURCE, file), os.path.join(VALIDATION, file))\n",
    "        else: \n",
    "            copyfile(os.path.join(SOURCE, file), os.path.join(TESTING, file)) \n",
    "        \n",
    "PAPULA_SOURCE_DIR = \"/content/drive/MyDrive/acne/Papule\"\n",
    "WHITEHEAD_SOURCE_DIR = \"/content/drive/MyDrive/acne/Whitehead\"\n",
    "PUSTULA_SOURCE_DIR = \"/content/drive/MyDrive/acne/Pustules\"\n",
    "BLACKHEAD_SOURCE_DIR = \"/content/drive/MyDrive/acne/Blackhead\"\n",
    "NODUL_SOURCE_DIR = \"/content/drive/MyDrive/acne/Nodules\"\n",
    "\n",
    "TRAINING_PAPULA_DIR = \"/content/drive/MyDrive/dataset/acne/training/papula\"\n",
    "TRAINING_WHITEHEAD_DIR = \"/content/drive/MyDrive/dataset/acne/training/whitehead\"\n",
    "TRAINING_PUSTULA_DIR = \"/content/drive/MyDrive/dataset/acne/training/pustula\"\n",
    "TRAINING_BLACKHEAD_DIR = \"/content/drive/MyDrive/dataset/acne/training/blackhead\"\n",
    "TRAINING_NODUL_DIR = \"/content/drive/MyDrive/dataset/acne/training/nodul\"\n",
    "\n",
    "TESTING_PAPULA_DIR = \"/content/drive/MyDrive/dataset/acne/testing/papula\"\n",
    "TESTING_WHITEHEAD_DIR = \"/content/drive/MyDrive/dataset/acne/testing/whitehead\"\n",
    "TESTING_PUSTULA_DIR = \"/content/drive/MyDrive/dataset/acne/testing/pustula\"\n",
    "TESTING_BLACKHEAD_DIR = \"/content/drive/MyDrive/dataset/acne/testing/blackhead\"\n",
    "TESTING_NODUL_DIR = \"/content/drive/MyDrive/dataset/acne/testing/nodul\"\n",
    "\n",
    "VALIDATION_PAPULA_DIR = \"/content/drive/MyDrive/dataset/acne/validation/papula\"\n",
    "VALIDATION_WHITEHEAD_DIR = \"/content/drive/MyDrive/dataset/acne/validation/whitehead\"\n",
    "VALIDATION_PUSTULA_DIR = \"/content/drive/MyDrive/dataset/acne/validation/pustula\"\n",
    "VALIDATION_BLACKHEAD_DIR = \"/content/drive/MyDrive/dataset/acne/validation/blackhead\"\n",
    "VALIDATION_NODUL_DIR = \"/content/drive/MyDrive/dataset/acne/validation/nodul\"\n",
    "\n",
    "\n",
    "split_size = .9\n",
    "split_data(PAPULA_SOURCE_DIR, TRAINING_PAPULA_DIR, TESTING_PAPULA_DIR, VALIDATION_PAPULA_DIR, split_size)\n",
    "split_data(WHITEHEAD_SOURCE_DIR, TRAINING_WHITEHEAD_DIR, TESTING_WHITEHEAD_DIR, VALIDATION_WHITEHEAD_DIR, split_size)\n",
    "split_data(PUSTULA_SOURCE_DIR, TRAINING_PUSTULA_DIR, TESTING_PUSTULA_DIR, VALIDATION_PUSTULA_DIR, split_size)\n",
    "split_data(BLACKHEAD_SOURCE_DIR, TRAINING_BLACKHEAD_DIR, TESTING_BLACKHEAD_DIR, VALIDATION_BLACKHEAD_DIR, split_size)\n",
    "split_data(NODUL_SOURCE_DIR, TRAINING_NODUL_DIR, TESTING_NODUL_DIR, VALIDATION_NODUL_DIR, split_size)"
   ]
  },
  {
   "cell_type": "code",
   "execution_count": null,
   "metadata": {
    "colab": {
     "base_uri": "https://localhost:8080/"
    },
    "id": "ECakzK4sIS9V",
    "outputId": "8a46e8f2-1410-411b-fad1-24c601bcb478"
   },
   "outputs": [
    {
     "name": "stdout",
     "output_type": "stream",
     "text": [
      "Training\n",
      "Papula : 40\n",
      "Whitehead : 45\n",
      "Pustula : 104\n",
      "Blackhead : 41\n",
      "Nodul : 48\n",
      "\n",
      "Testing\n",
      "Papula : 5\n",
      "Whitehead : 5\n",
      "Pustula : 12\n",
      "Blackhead : 5\n",
      "Nodul : 5\n",
      "\n",
      "Validation\n",
      "Papula : 5\n",
      "Whitehead : 6\n",
      "Pustula : 13\n",
      "Blackhead : 5\n",
      "Nodul : 6\n"
     ]
    }
   ],
   "source": [
    "train_papula = os.listdir(TRAINING_PAPULA_DIR)\n",
    "train_whitehead = os.listdir(TRAINING_WHITEHEAD_DIR)\n",
    "train_pustula = os.listdir(TRAINING_PUSTULA_DIR)\n",
    "train_blackhead = os.listdir(TRAINING_BLACKHEAD_DIR)\n",
    "train_nodul = os.listdir(TRAINING_NODUL_DIR)\n",
    "\n",
    "test_papula = os.listdir(TESTING_PAPULA_DIR)\n",
    "test_whitehead = os.listdir(TESTING_WHITEHEAD_DIR)\n",
    "test_pustula = os.listdir(TESTING_PUSTULA_DIR)\n",
    "test_blackhead = os.listdir(TESTING_BLACKHEAD_DIR)\n",
    "test_nodul = os.listdir(TESTING_NODUL_DIR)\n",
    "\n",
    "val_papula = os.listdir(VALIDATION_PAPULA_DIR)\n",
    "val_whitehead = os.listdir(VALIDATION_WHITEHEAD_DIR)\n",
    "val_pustula = os.listdir(VALIDATION_PUSTULA_DIR)\n",
    "val_blackhead = os.listdir(VALIDATION_BLACKHEAD_DIR)\n",
    "val_nodul = os.listdir(VALIDATION_NODUL_DIR)\n",
    "\n",
    "print(\"Training\")\n",
    "print('Papula :', len(train_papula))\n",
    "print('Whitehead :', len(train_whitehead))\n",
    "print('Pustula :', len(train_pustula))\n",
    "print('Blackhead :', len(train_blackhead))\n",
    "print('Nodul :', len(train_nodul))\n",
    "\n",
    "print(\"\\nTesting\")\n",
    "print('Papula :', len(test_papula))\n",
    "print('Whitehead :', len(test_whitehead))\n",
    "print('Pustula :', len(test_pustula))\n",
    "print('Blackhead :', len(test_blackhead))\n",
    "print('Nodul :', len(test_nodul))\n",
    "\n",
    "print(\"\\nValidation\")\n",
    "print('Papula :', len(val_papula))\n",
    "print('Whitehead :', len(val_whitehead))\n",
    "print('Pustula :', len(val_pustula))\n",
    "print('Blackhead :', len(val_blackhead))\n",
    "print('Nodul :', len(val_nodul))"
   ]
  },
  {
   "cell_type": "code",
   "execution_count": null,
   "metadata": {
    "colab": {
     "base_uri": "https://localhost:8080/"
    },
    "id": "n2Vb0mKaJiA5",
    "outputId": "34fe13cf-0e31-4f3b-c5e1-745ee7c0000f"
   },
   "outputs": [
    {
     "name": "stdout",
     "output_type": "stream",
     "text": [
      "Found 278 images belonging to 5 classes.\n",
      "Found 32 images belonging to 5 classes.\n",
      "Found 35 images belonging to 5 classes.\n"
     ]
    }
   ],
   "source": [
    "BATCH_SIZE = 64\n",
    "IMG_SIZE = (224, 224)\n",
    "\n",
    "TRAINING_DIR = '/content/drive/MyDrive/dataset/acne/training'\n",
    "train_datagen = image.ImageDataGenerator(\n",
    "    rescale=1.0/255.0,\n",
    "    rotation_range=45,\n",
    "    width_shift_range=0.25,\n",
    "    height_shift_range=0.25,\n",
    "    shear_range=0.25,\n",
    "    zoom_range=0.25,\n",
    "    horizontal_flip=True,\n",
    "    fill_mode='nearest'\n",
    ")\n",
    "\n",
    "train_generator = train_datagen.flow_from_directory(\n",
    "    TRAINING_DIR, \n",
    "    class_mode='categorical', \n",
    "    batch_size=BATCH_SIZE, \n",
    "    target_size=IMG_SIZE, \n",
    "    shuffle=True\n",
    ")\n",
    "\n",
    "\n",
    "TESTING_DIR = '/content/drive/MyDrive/dataset/acne/testing'\n",
    "datagen = image.ImageDataGenerator(rescale = 1.0/255.0)\n",
    "test_generator = datagen.flow_from_directory(\n",
    "    TESTING_DIR, \n",
    "    class_mode='categorical', \n",
    "    batch_size=BATCH_SIZE, \n",
    "    target_size=IMG_SIZE,\n",
    "    shuffle=False\n",
    ")\n",
    "\n",
    "\n",
    "VALIDATION_DIR = '/content/drive/MyDrive/dataset/acne/validation'\n",
    "datagen = image.ImageDataGenerator(rescale = 1.0/255.0)\n",
    "val_generator = datagen.flow_from_directory(\n",
    "    VALIDATION_DIR, \n",
    "    class_mode='categorical', \n",
    "    batch_size=BATCH_SIZE, \n",
    "    target_size=IMG_SIZE,\n",
    "    shuffle=False\n",
    ")"
   ]
  },
  {
   "cell_type": "code",
   "execution_count": null,
   "metadata": {
    "colab": {
     "base_uri": "https://localhost:8080/"
    },
    "id": "yWfjDKWmJ0vC",
    "outputId": "02388a81-ceae-4c98-efbb-2451f2c4934f"
   },
   "outputs": [
    {
     "name": "stdout",
     "output_type": "stream",
     "text": [
      "Found 278 files belonging to 5 classes.\n"
     ]
    }
   ],
   "source": [
    "train_dataset = image_dataset_from_directory(TRAINING_DIR,\n",
    "                                             shuffle=True,\n",
    "                                             batch_size=BATCH_SIZE,\n",
    "                                             image_size=IMG_SIZE)"
   ]
  },
  {
   "cell_type": "code",
   "execution_count": null,
   "metadata": {
    "colab": {
     "base_uri": "https://localhost:8080/"
    },
    "id": "LR-ysO7CJ419",
    "outputId": "e8c1b560-90b5-44dc-c0ec-914d1e77e954"
   },
   "outputs": [
    {
     "name": "stdout",
     "output_type": "stream",
     "text": [
      "['blackhead', 'nodul', 'papula', 'pustula', 'whitehead']\n"
     ]
    }
   ],
   "source": [
    "class_names = train_dataset.class_names\n",
    "\n",
    "print(class_names)"
   ]
  },
  {
   "cell_type": "code",
   "execution_count": null,
   "metadata": {
    "colab": {
     "base_uri": "https://localhost:8080/"
    },
    "id": "u-KUI3EqKCTn",
    "outputId": "febfbb02-06dd-41a8-ac49-762007aa2a25"
   },
   "outputs": [
    {
     "name": "stdout",
     "output_type": "stream",
     "text": [
      "Model: \"sequential\"\n",
      "_________________________________________________________________\n",
      " Layer (type)                Output Shape              Param #   \n",
      "=================================================================\n",
      " conv2d (Conv2D)             (None, 222, 222, 32)      896       \n",
      "                                                                 \n",
      " max_pooling2d (MaxPooling2D  (None, 111, 111, 32)     0         \n",
      " )                                                               \n",
      "                                                                 \n",
      " conv2d_1 (Conv2D)           (None, 109, 109, 64)      18496     \n",
      "                                                                 \n",
      " max_pooling2d_1 (MaxPooling  (None, 54, 54, 64)       0         \n",
      " 2D)                                                             \n",
      "                                                                 \n",
      " conv2d_2 (Conv2D)           (None, 52, 52, 128)       73856     \n",
      "                                                                 \n",
      " max_pooling2d_2 (MaxPooling  (None, 26, 26, 128)      0         \n",
      " 2D)                                                             \n",
      "                                                                 \n",
      " flatten (Flatten)           (None, 86528)             0         \n",
      "                                                                 \n",
      " dense (Dense)               (None, 256)               22151424  \n",
      "                                                                 \n",
      " dense_1 (Dense)             (None, 5)                 1285      \n",
      "                                                                 \n",
      "=================================================================\n",
      "Total params: 22,245,957\n",
      "Trainable params: 22,245,957\n",
      "Non-trainable params: 0\n",
      "_________________________________________________________________\n"
     ]
    }
   ],
   "source": [
    "model = tf.keras.models.Sequential([\n",
    "    tf.keras.layers.Conv2D(32, (3,3), activation='relu', input_shape=(224,224,3)),\n",
    "    tf.keras.layers.MaxPooling2D(2, 2),\n",
    "    tf.keras.layers.Conv2D(64, (3,3), activation='relu'),\n",
    "    tf.keras.layers.MaxPooling2D(2,2),\n",
    "    tf.keras.layers.Conv2D(128, (3,3), activation='relu'),\n",
    "    tf.keras.layers.MaxPooling2D(2,2),\n",
    "    tf.keras.layers.Flatten(),\n",
    "    tf.keras.layers.Dense(256, activation='relu'),\n",
    "    tf.keras.layers.Dense(5, activation='softmax')\n",
    "])\n",
    "\n",
    "model.summary()"
   ]
  },
  {
   "cell_type": "code",
   "execution_count": null,
   "metadata": {
    "id": "AToX_A3LKVpH"
   },
   "outputs": [],
   "source": [
    "model.compile(optimizer=tf.keras.optimizers.Adam(0.0001),\n",
    "              loss='categorical_crossentropy',\n",
    "              metrics=['accuracy'])"
   ]
  },
  {
   "cell_type": "code",
   "execution_count": null,
   "metadata": {
    "colab": {
     "base_uri": "https://localhost:8080/"
    },
    "id": "fiyHPx8hKdmQ",
    "outputId": "0c52c49a-dd80-4682-8b9a-213962b17b93"
   },
   "outputs": [
    {
     "name": "stdout",
     "output_type": "stream",
     "text": [
      "Epoch 1/20\n",
      "5/5 [==============================] - 28s 5s/step - loss: 2.1906 - accuracy: 0.2914 - val_loss: 1.7443 - val_accuracy: 0.1562\n",
      "Epoch 2/20\n",
      "5/5 [==============================] - 27s 5s/step - loss: 1.6035 - accuracy: 0.2806 - val_loss: 1.4844 - val_accuracy: 0.3750\n",
      "Epoch 3/20\n",
      "5/5 [==============================] - 27s 5s/step - loss: 1.5551 - accuracy: 0.3741 - val_loss: 1.4721 - val_accuracy: 0.3750\n",
      "Epoch 4/20\n",
      "5/5 [==============================] - 27s 5s/step - loss: 1.5329 - accuracy: 0.3741 - val_loss: 1.4392 - val_accuracy: 0.3750\n",
      "Epoch 5/20\n",
      "5/5 [==============================] - 27s 5s/step - loss: 1.4928 - accuracy: 0.3741 - val_loss: 1.4135 - val_accuracy: 0.3750\n",
      "Epoch 6/20\n",
      "5/5 [==============================] - 27s 5s/step - loss: 1.4609 - accuracy: 0.3741 - val_loss: 1.3821 - val_accuracy: 0.3750\n",
      "Epoch 7/20\n",
      "5/5 [==============================] - 27s 5s/step - loss: 1.4461 - accuracy: 0.3741 - val_loss: 1.3491 - val_accuracy: 0.3750\n",
      "Epoch 8/20\n",
      "5/5 [==============================] - 27s 5s/step - loss: 1.4190 - accuracy: 0.3993 - val_loss: 1.3369 - val_accuracy: 0.2812\n",
      "Epoch 9/20\n",
      "5/5 [==============================] - 27s 5s/step - loss: 1.3728 - accuracy: 0.3957 - val_loss: 1.2940 - val_accuracy: 0.3750\n",
      "Epoch 10/20\n",
      "5/5 [==============================] - 27s 5s/step - loss: 1.3501 - accuracy: 0.4101 - val_loss: 1.2691 - val_accuracy: 0.3438\n",
      "Epoch 11/20\n",
      "5/5 [==============================] - 27s 5s/step - loss: 1.3267 - accuracy: 0.4532 - val_loss: 1.2429 - val_accuracy: 0.4688\n",
      "Epoch 12/20\n",
      "5/5 [==============================] - 32s 7s/step - loss: 1.3253 - accuracy: 0.4388 - val_loss: 1.2012 - val_accuracy: 0.4375\n",
      "Epoch 13/20\n",
      "5/5 [==============================] - 27s 5s/step - loss: 1.2758 - accuracy: 0.5180 - val_loss: 1.2056 - val_accuracy: 0.4062\n",
      "Epoch 14/20\n",
      "5/5 [==============================] - 27s 5s/step - loss: 1.2658 - accuracy: 0.4820 - val_loss: 1.2013 - val_accuracy: 0.3750\n",
      "Epoch 15/20\n",
      "5/5 [==============================] - 27s 5s/step - loss: 1.2344 - accuracy: 0.4892 - val_loss: 1.1603 - val_accuracy: 0.4062\n",
      "Epoch 16/20\n",
      "5/5 [==============================] - 27s 5s/step - loss: 1.1797 - accuracy: 0.5180 - val_loss: 1.1096 - val_accuracy: 0.3438\n",
      "Epoch 17/20\n",
      "5/5 [==============================] - 27s 5s/step - loss: 1.1747 - accuracy: 0.5000 - val_loss: 1.1016 - val_accuracy: 0.4062\n",
      "Epoch 18/20\n",
      "5/5 [==============================] - 27s 5s/step - loss: 1.1569 - accuracy: 0.5324 - val_loss: 1.0586 - val_accuracy: 0.4688\n",
      "Epoch 19/20\n",
      "5/5 [==============================] - 31s 5s/step - loss: 1.1428 - accuracy: 0.5108 - val_loss: 1.0940 - val_accuracy: 0.4375\n",
      "Epoch 20/20\n",
      "5/5 [==============================] - 29s 5s/step - loss: 1.0980 - accuracy: 0.5504 - val_loss: 1.0049 - val_accuracy: 0.5938\n"
     ]
    }
   ],
   "source": [
    "history = model.fit(train_generator,\n",
    "                    epochs=20,\n",
    "                    validation_data=test_generator,\n",
    "                    verbose = 1)"
   ]
  },
  {
   "cell_type": "code",
   "execution_count": null,
   "metadata": {
    "id": "Ksx1Tp2VKgMx"
   },
   "outputs": [],
   "source": [
    "from tensorflow.keras.applications.mobilenet_v2 import MobileNetV2\n",
    "\n",
    "pretrained_model = MobileNetV2(input_shape = (224, 224, 3),\n",
    "                                include_top = False,\n",
    "                                weights = 'imagenet')"
   ]
  },
  {
   "cell_type": "code",
   "execution_count": null,
   "metadata": {
    "id": "9PNGL_tiSKPx"
   },
   "outputs": [],
   "source": [
    "for layer in pretrained_model.layers:\n",
    "    layer.trainable = False"
   ]
  },
  {
   "cell_type": "code",
   "execution_count": null,
   "metadata": {
    "id": "RkDzaRG-SmVh"
   },
   "outputs": [],
   "source": [
    "x = pretrained_model.output\n",
    "x = tf.keras.layers.GlobalAveragePooling2D()(x)\n",
    "x = tf.keras.layers.Dense(1024,activation='relu')(x) \n",
    "x = tf.keras.layers.Dense(1024,activation='relu')(x) \n",
    "x = tf.keras.layers.Dense(512,activation='relu')(x)  \n",
    "x = tf.keras.layers.Dense(6,activation='softmax')(x) \n",
    "\n",
    "model2 = Model(pretrained_model.input, x)     "
   ]
  },
  {
   "cell_type": "code",
   "execution_count": null,
   "metadata": {
    "colab": {
     "base_uri": "https://localhost:8080/"
    },
    "id": "egYDc_eiSRNY",
    "outputId": "61104448-0647-4086-e806-19090445c45b"
   },
   "outputs": [
    {
     "name": "stdout",
     "output_type": "stream",
     "text": [
      "Model: \"model\"\n",
      "__________________________________________________________________________________________________\n",
      " Layer (type)                   Output Shape         Param #     Connected to                     \n",
      "==================================================================================================\n",
      " input_1 (InputLayer)           [(None, 224, 224, 3  0           []                               \n",
      "                                )]                                                                \n",
      "                                                                                                  \n",
      " Conv1 (Conv2D)                 (None, 112, 112, 32  864         ['input_1[0][0]']                \n",
      "                                )                                                                 \n",
      "                                                                                                  \n",
      " bn_Conv1 (BatchNormalization)  (None, 112, 112, 32  128         ['Conv1[0][0]']                  \n",
      "                                )                                                                 \n",
      "                                                                                                  \n",
      " Conv1_relu (ReLU)              (None, 112, 112, 32  0           ['bn_Conv1[0][0]']               \n",
      "                                )                                                                 \n",
      "                                                                                                  \n",
      " expanded_conv_depthwise (Depth  (None, 112, 112, 32  288        ['Conv1_relu[0][0]']             \n",
      " wiseConv2D)                    )                                                                 \n",
      "                                                                                                  \n",
      " expanded_conv_depthwise_BN (Ba  (None, 112, 112, 32  128        ['expanded_conv_depthwise[0][0]']\n",
      " tchNormalization)              )                                                                 \n",
      "                                                                                                  \n",
      " expanded_conv_depthwise_relu (  (None, 112, 112, 32  0          ['expanded_conv_depthwise_BN[0][0\n",
      " ReLU)                          )                                ]']                              \n",
      "                                                                                                  \n",
      " expanded_conv_project (Conv2D)  (None, 112, 112, 16  512        ['expanded_conv_depthwise_relu[0]\n",
      "                                )                                [0]']                            \n",
      "                                                                                                  \n",
      " expanded_conv_project_BN (Batc  (None, 112, 112, 16  64         ['expanded_conv_project[0][0]']  \n",
      " hNormalization)                )                                                                 \n",
      "                                                                                                  \n",
      " block_1_expand (Conv2D)        (None, 112, 112, 96  1536        ['expanded_conv_project_BN[0][0]'\n",
      "                                )                                ]                                \n",
      "                                                                                                  \n",
      " block_1_expand_BN (BatchNormal  (None, 112, 112, 96  384        ['block_1_expand[0][0]']         \n",
      " ization)                       )                                                                 \n",
      "                                                                                                  \n",
      " block_1_expand_relu (ReLU)     (None, 112, 112, 96  0           ['block_1_expand_BN[0][0]']      \n",
      "                                )                                                                 \n",
      "                                                                                                  \n",
      " block_1_pad (ZeroPadding2D)    (None, 113, 113, 96  0           ['block_1_expand_relu[0][0]']    \n",
      "                                )                                                                 \n",
      "                                                                                                  \n",
      " block_1_depthwise (DepthwiseCo  (None, 56, 56, 96)  864         ['block_1_pad[0][0]']            \n",
      " nv2D)                                                                                            \n",
      "                                                                                                  \n",
      " block_1_depthwise_BN (BatchNor  (None, 56, 56, 96)  384         ['block_1_depthwise[0][0]']      \n",
      " malization)                                                                                      \n",
      "                                                                                                  \n",
      " block_1_depthwise_relu (ReLU)  (None, 56, 56, 96)   0           ['block_1_depthwise_BN[0][0]']   \n",
      "                                                                                                  \n",
      " block_1_project (Conv2D)       (None, 56, 56, 24)   2304        ['block_1_depthwise_relu[0][0]'] \n",
      "                                                                                                  \n",
      " block_1_project_BN (BatchNorma  (None, 56, 56, 24)  96          ['block_1_project[0][0]']        \n",
      " lization)                                                                                        \n",
      "                                                                                                  \n",
      " block_2_expand (Conv2D)        (None, 56, 56, 144)  3456        ['block_1_project_BN[0][0]']     \n",
      "                                                                                                  \n",
      " block_2_expand_BN (BatchNormal  (None, 56, 56, 144)  576        ['block_2_expand[0][0]']         \n",
      " ization)                                                                                         \n",
      "                                                                                                  \n",
      " block_2_expand_relu (ReLU)     (None, 56, 56, 144)  0           ['block_2_expand_BN[0][0]']      \n",
      "                                                                                                  \n",
      " block_2_depthwise (DepthwiseCo  (None, 56, 56, 144)  1296       ['block_2_expand_relu[0][0]']    \n",
      " nv2D)                                                                                            \n",
      "                                                                                                  \n",
      " block_2_depthwise_BN (BatchNor  (None, 56, 56, 144)  576        ['block_2_depthwise[0][0]']      \n",
      " malization)                                                                                      \n",
      "                                                                                                  \n",
      " block_2_depthwise_relu (ReLU)  (None, 56, 56, 144)  0           ['block_2_depthwise_BN[0][0]']   \n",
      "                                                                                                  \n",
      " block_2_project (Conv2D)       (None, 56, 56, 24)   3456        ['block_2_depthwise_relu[0][0]'] \n",
      "                                                                                                  \n",
      " block_2_project_BN (BatchNorma  (None, 56, 56, 24)  96          ['block_2_project[0][0]']        \n",
      " lization)                                                                                        \n",
      "                                                                                                  \n",
      " block_2_add (Add)              (None, 56, 56, 24)   0           ['block_1_project_BN[0][0]',     \n",
      "                                                                  'block_2_project_BN[0][0]']     \n",
      "                                                                                                  \n",
      " block_3_expand (Conv2D)        (None, 56, 56, 144)  3456        ['block_2_add[0][0]']            \n",
      "                                                                                                  \n",
      " block_3_expand_BN (BatchNormal  (None, 56, 56, 144)  576        ['block_3_expand[0][0]']         \n",
      " ization)                                                                                         \n",
      "                                                                                                  \n",
      " block_3_expand_relu (ReLU)     (None, 56, 56, 144)  0           ['block_3_expand_BN[0][0]']      \n",
      "                                                                                                  \n",
      " block_3_pad (ZeroPadding2D)    (None, 57, 57, 144)  0           ['block_3_expand_relu[0][0]']    \n",
      "                                                                                                  \n",
      " block_3_depthwise (DepthwiseCo  (None, 28, 28, 144)  1296       ['block_3_pad[0][0]']            \n",
      " nv2D)                                                                                            \n",
      "                                                                                                  \n",
      " block_3_depthwise_BN (BatchNor  (None, 28, 28, 144)  576        ['block_3_depthwise[0][0]']      \n",
      " malization)                                                                                      \n",
      "                                                                                                  \n",
      " block_3_depthwise_relu (ReLU)  (None, 28, 28, 144)  0           ['block_3_depthwise_BN[0][0]']   \n",
      "                                                                                                  \n",
      " block_3_project (Conv2D)       (None, 28, 28, 32)   4608        ['block_3_depthwise_relu[0][0]'] \n",
      "                                                                                                  \n",
      " block_3_project_BN (BatchNorma  (None, 28, 28, 32)  128         ['block_3_project[0][0]']        \n",
      " lization)                                                                                        \n",
      "                                                                                                  \n",
      " block_4_expand (Conv2D)        (None, 28, 28, 192)  6144        ['block_3_project_BN[0][0]']     \n",
      "                                                                                                  \n",
      " block_4_expand_BN (BatchNormal  (None, 28, 28, 192)  768        ['block_4_expand[0][0]']         \n",
      " ization)                                                                                         \n",
      "                                                                                                  \n",
      " block_4_expand_relu (ReLU)     (None, 28, 28, 192)  0           ['block_4_expand_BN[0][0]']      \n",
      "                                                                                                  \n",
      " block_4_depthwise (DepthwiseCo  (None, 28, 28, 192)  1728       ['block_4_expand_relu[0][0]']    \n",
      " nv2D)                                                                                            \n",
      "                                                                                                  \n",
      " block_4_depthwise_BN (BatchNor  (None, 28, 28, 192)  768        ['block_4_depthwise[0][0]']      \n",
      " malization)                                                                                      \n",
      "                                                                                                  \n",
      " block_4_depthwise_relu (ReLU)  (None, 28, 28, 192)  0           ['block_4_depthwise_BN[0][0]']   \n",
      "                                                                                                  \n",
      " block_4_project (Conv2D)       (None, 28, 28, 32)   6144        ['block_4_depthwise_relu[0][0]'] \n",
      "                                                                                                  \n",
      " block_4_project_BN (BatchNorma  (None, 28, 28, 32)  128         ['block_4_project[0][0]']        \n",
      " lization)                                                                                        \n",
      "                                                                                                  \n",
      " block_4_add (Add)              (None, 28, 28, 32)   0           ['block_3_project_BN[0][0]',     \n",
      "                                                                  'block_4_project_BN[0][0]']     \n",
      "                                                                                                  \n",
      " block_5_expand (Conv2D)        (None, 28, 28, 192)  6144        ['block_4_add[0][0]']            \n",
      "                                                                                                  \n",
      " block_5_expand_BN (BatchNormal  (None, 28, 28, 192)  768        ['block_5_expand[0][0]']         \n",
      " ization)                                                                                         \n",
      "                                                                                                  \n",
      " block_5_expand_relu (ReLU)     (None, 28, 28, 192)  0           ['block_5_expand_BN[0][0]']      \n",
      "                                                                                                  \n",
      " block_5_depthwise (DepthwiseCo  (None, 28, 28, 192)  1728       ['block_5_expand_relu[0][0]']    \n",
      " nv2D)                                                                                            \n",
      "                                                                                                  \n",
      " block_5_depthwise_BN (BatchNor  (None, 28, 28, 192)  768        ['block_5_depthwise[0][0]']      \n",
      " malization)                                                                                      \n",
      "                                                                                                  \n",
      " block_5_depthwise_relu (ReLU)  (None, 28, 28, 192)  0           ['block_5_depthwise_BN[0][0]']   \n",
      "                                                                                                  \n",
      " block_5_project (Conv2D)       (None, 28, 28, 32)   6144        ['block_5_depthwise_relu[0][0]'] \n",
      "                                                                                                  \n",
      " block_5_project_BN (BatchNorma  (None, 28, 28, 32)  128         ['block_5_project[0][0]']        \n",
      " lization)                                                                                        \n",
      "                                                                                                  \n",
      " block_5_add (Add)              (None, 28, 28, 32)   0           ['block_4_add[0][0]',            \n",
      "                                                                  'block_5_project_BN[0][0]']     \n",
      "                                                                                                  \n",
      " block_6_expand (Conv2D)        (None, 28, 28, 192)  6144        ['block_5_add[0][0]']            \n",
      "                                                                                                  \n",
      " block_6_expand_BN (BatchNormal  (None, 28, 28, 192)  768        ['block_6_expand[0][0]']         \n",
      " ization)                                                                                         \n",
      "                                                                                                  \n",
      " block_6_expand_relu (ReLU)     (None, 28, 28, 192)  0           ['block_6_expand_BN[0][0]']      \n",
      "                                                                                                  \n",
      " block_6_pad (ZeroPadding2D)    (None, 29, 29, 192)  0           ['block_6_expand_relu[0][0]']    \n",
      "                                                                                                  \n",
      " block_6_depthwise (DepthwiseCo  (None, 14, 14, 192)  1728       ['block_6_pad[0][0]']            \n",
      " nv2D)                                                                                            \n",
      "                                                                                                  \n",
      " block_6_depthwise_BN (BatchNor  (None, 14, 14, 192)  768        ['block_6_depthwise[0][0]']      \n",
      " malization)                                                                                      \n",
      "                                                                                                  \n",
      " block_6_depthwise_relu (ReLU)  (None, 14, 14, 192)  0           ['block_6_depthwise_BN[0][0]']   \n",
      "                                                                                                  \n",
      " block_6_project (Conv2D)       (None, 14, 14, 64)   12288       ['block_6_depthwise_relu[0][0]'] \n",
      "                                                                                                  \n",
      " block_6_project_BN (BatchNorma  (None, 14, 14, 64)  256         ['block_6_project[0][0]']        \n",
      " lization)                                                                                        \n",
      "                                                                                                  \n",
      " block_7_expand (Conv2D)        (None, 14, 14, 384)  24576       ['block_6_project_BN[0][0]']     \n",
      "                                                                                                  \n",
      " block_7_expand_BN (BatchNormal  (None, 14, 14, 384)  1536       ['block_7_expand[0][0]']         \n",
      " ization)                                                                                         \n",
      "                                                                                                  \n",
      " block_7_expand_relu (ReLU)     (None, 14, 14, 384)  0           ['block_7_expand_BN[0][0]']      \n",
      "                                                                                                  \n",
      " block_7_depthwise (DepthwiseCo  (None, 14, 14, 384)  3456       ['block_7_expand_relu[0][0]']    \n",
      " nv2D)                                                                                            \n",
      "                                                                                                  \n",
      " block_7_depthwise_BN (BatchNor  (None, 14, 14, 384)  1536       ['block_7_depthwise[0][0]']      \n",
      " malization)                                                                                      \n",
      "                                                                                                  \n",
      " block_7_depthwise_relu (ReLU)  (None, 14, 14, 384)  0           ['block_7_depthwise_BN[0][0]']   \n",
      "                                                                                                  \n",
      " block_7_project (Conv2D)       (None, 14, 14, 64)   24576       ['block_7_depthwise_relu[0][0]'] \n",
      "                                                                                                  \n",
      " block_7_project_BN (BatchNorma  (None, 14, 14, 64)  256         ['block_7_project[0][0]']        \n",
      " lization)                                                                                        \n",
      "                                                                                                  \n",
      " block_7_add (Add)              (None, 14, 14, 64)   0           ['block_6_project_BN[0][0]',     \n",
      "                                                                  'block_7_project_BN[0][0]']     \n",
      "                                                                                                  \n",
      " block_8_expand (Conv2D)        (None, 14, 14, 384)  24576       ['block_7_add[0][0]']            \n",
      "                                                                                                  \n",
      " block_8_expand_BN (BatchNormal  (None, 14, 14, 384)  1536       ['block_8_expand[0][0]']         \n",
      " ization)                                                                                         \n",
      "                                                                                                  \n",
      " block_8_expand_relu (ReLU)     (None, 14, 14, 384)  0           ['block_8_expand_BN[0][0]']      \n",
      "                                                                                                  \n",
      " block_8_depthwise (DepthwiseCo  (None, 14, 14, 384)  3456       ['block_8_expand_relu[0][0]']    \n",
      " nv2D)                                                                                            \n",
      "                                                                                                  \n",
      " block_8_depthwise_BN (BatchNor  (None, 14, 14, 384)  1536       ['block_8_depthwise[0][0]']      \n",
      " malization)                                                                                      \n",
      "                                                                                                  \n",
      " block_8_depthwise_relu (ReLU)  (None, 14, 14, 384)  0           ['block_8_depthwise_BN[0][0]']   \n",
      "                                                                                                  \n",
      " block_8_project (Conv2D)       (None, 14, 14, 64)   24576       ['block_8_depthwise_relu[0][0]'] \n",
      "                                                                                                  \n",
      " block_8_project_BN (BatchNorma  (None, 14, 14, 64)  256         ['block_8_project[0][0]']        \n",
      " lization)                                                                                        \n",
      "                                                                                                  \n",
      " block_8_add (Add)              (None, 14, 14, 64)   0           ['block_7_add[0][0]',            \n",
      "                                                                  'block_8_project_BN[0][0]']     \n",
      "                                                                                                  \n",
      " block_9_expand (Conv2D)        (None, 14, 14, 384)  24576       ['block_8_add[0][0]']            \n",
      "                                                                                                  \n",
      " block_9_expand_BN (BatchNormal  (None, 14, 14, 384)  1536       ['block_9_expand[0][0]']         \n",
      " ization)                                                                                         \n",
      "                                                                                                  \n",
      " block_9_expand_relu (ReLU)     (None, 14, 14, 384)  0           ['block_9_expand_BN[0][0]']      \n",
      "                                                                                                  \n",
      " block_9_depthwise (DepthwiseCo  (None, 14, 14, 384)  3456       ['block_9_expand_relu[0][0]']    \n",
      " nv2D)                                                                                            \n",
      "                                                                                                  \n",
      " block_9_depthwise_BN (BatchNor  (None, 14, 14, 384)  1536       ['block_9_depthwise[0][0]']      \n",
      " malization)                                                                                      \n",
      "                                                                                                  \n",
      " block_9_depthwise_relu (ReLU)  (None, 14, 14, 384)  0           ['block_9_depthwise_BN[0][0]']   \n",
      "                                                                                                  \n",
      " block_9_project (Conv2D)       (None, 14, 14, 64)   24576       ['block_9_depthwise_relu[0][0]'] \n",
      "                                                                                                  \n",
      " block_9_project_BN (BatchNorma  (None, 14, 14, 64)  256         ['block_9_project[0][0]']        \n",
      " lization)                                                                                        \n",
      "                                                                                                  \n",
      " block_9_add (Add)              (None, 14, 14, 64)   0           ['block_8_add[0][0]',            \n",
      "                                                                  'block_9_project_BN[0][0]']     \n",
      "                                                                                                  \n",
      " block_10_expand (Conv2D)       (None, 14, 14, 384)  24576       ['block_9_add[0][0]']            \n",
      "                                                                                                  \n",
      " block_10_expand_BN (BatchNorma  (None, 14, 14, 384)  1536       ['block_10_expand[0][0]']        \n",
      " lization)                                                                                        \n",
      "                                                                                                  \n",
      " block_10_expand_relu (ReLU)    (None, 14, 14, 384)  0           ['block_10_expand_BN[0][0]']     \n",
      "                                                                                                  \n",
      " block_10_depthwise (DepthwiseC  (None, 14, 14, 384)  3456       ['block_10_expand_relu[0][0]']   \n",
      " onv2D)                                                                                           \n",
      "                                                                                                  \n",
      " block_10_depthwise_BN (BatchNo  (None, 14, 14, 384)  1536       ['block_10_depthwise[0][0]']     \n",
      " rmalization)                                                                                     \n",
      "                                                                                                  \n",
      " block_10_depthwise_relu (ReLU)  (None, 14, 14, 384)  0          ['block_10_depthwise_BN[0][0]']  \n",
      "                                                                                                  \n",
      " block_10_project (Conv2D)      (None, 14, 14, 96)   36864       ['block_10_depthwise_relu[0][0]']\n",
      "                                                                                                  \n",
      " block_10_project_BN (BatchNorm  (None, 14, 14, 96)  384         ['block_10_project[0][0]']       \n",
      " alization)                                                                                       \n",
      "                                                                                                  \n",
      " block_11_expand (Conv2D)       (None, 14, 14, 576)  55296       ['block_10_project_BN[0][0]']    \n",
      "                                                                                                  \n",
      " block_11_expand_BN (BatchNorma  (None, 14, 14, 576)  2304       ['block_11_expand[0][0]']        \n",
      " lization)                                                                                        \n",
      "                                                                                                  \n",
      " block_11_expand_relu (ReLU)    (None, 14, 14, 576)  0           ['block_11_expand_BN[0][0]']     \n",
      "                                                                                                  \n",
      " block_11_depthwise (DepthwiseC  (None, 14, 14, 576)  5184       ['block_11_expand_relu[0][0]']   \n",
      " onv2D)                                                                                           \n",
      "                                                                                                  \n",
      " block_11_depthwise_BN (BatchNo  (None, 14, 14, 576)  2304       ['block_11_depthwise[0][0]']     \n",
      " rmalization)                                                                                     \n",
      "                                                                                                  \n",
      " block_11_depthwise_relu (ReLU)  (None, 14, 14, 576)  0          ['block_11_depthwise_BN[0][0]']  \n",
      "                                                                                                  \n",
      " block_11_project (Conv2D)      (None, 14, 14, 96)   55296       ['block_11_depthwise_relu[0][0]']\n",
      "                                                                                                  \n",
      " block_11_project_BN (BatchNorm  (None, 14, 14, 96)  384         ['block_11_project[0][0]']       \n",
      " alization)                                                                                       \n",
      "                                                                                                  \n",
      " block_11_add (Add)             (None, 14, 14, 96)   0           ['block_10_project_BN[0][0]',    \n",
      "                                                                  'block_11_project_BN[0][0]']    \n",
      "                                                                                                  \n",
      " block_12_expand (Conv2D)       (None, 14, 14, 576)  55296       ['block_11_add[0][0]']           \n",
      "                                                                                                  \n",
      " block_12_expand_BN (BatchNorma  (None, 14, 14, 576)  2304       ['block_12_expand[0][0]']        \n",
      " lization)                                                                                        \n",
      "                                                                                                  \n",
      " block_12_expand_relu (ReLU)    (None, 14, 14, 576)  0           ['block_12_expand_BN[0][0]']     \n",
      "                                                                                                  \n",
      " block_12_depthwise (DepthwiseC  (None, 14, 14, 576)  5184       ['block_12_expand_relu[0][0]']   \n",
      " onv2D)                                                                                           \n",
      "                                                                                                  \n",
      " block_12_depthwise_BN (BatchNo  (None, 14, 14, 576)  2304       ['block_12_depthwise[0][0]']     \n",
      " rmalization)                                                                                     \n",
      "                                                                                                  \n",
      " block_12_depthwise_relu (ReLU)  (None, 14, 14, 576)  0          ['block_12_depthwise_BN[0][0]']  \n",
      "                                                                                                  \n",
      " block_12_project (Conv2D)      (None, 14, 14, 96)   55296       ['block_12_depthwise_relu[0][0]']\n",
      "                                                                                                  \n",
      " block_12_project_BN (BatchNorm  (None, 14, 14, 96)  384         ['block_12_project[0][0]']       \n",
      " alization)                                                                                       \n",
      "                                                                                                  \n",
      " block_12_add (Add)             (None, 14, 14, 96)   0           ['block_11_add[0][0]',           \n",
      "                                                                  'block_12_project_BN[0][0]']    \n",
      "                                                                                                  \n",
      " block_13_expand (Conv2D)       (None, 14, 14, 576)  55296       ['block_12_add[0][0]']           \n",
      "                                                                                                  \n",
      " block_13_expand_BN (BatchNorma  (None, 14, 14, 576)  2304       ['block_13_expand[0][0]']        \n",
      " lization)                                                                                        \n",
      "                                                                                                  \n",
      " block_13_expand_relu (ReLU)    (None, 14, 14, 576)  0           ['block_13_expand_BN[0][0]']     \n",
      "                                                                                                  \n",
      " block_13_pad (ZeroPadding2D)   (None, 15, 15, 576)  0           ['block_13_expand_relu[0][0]']   \n",
      "                                                                                                  \n",
      " block_13_depthwise (DepthwiseC  (None, 7, 7, 576)   5184        ['block_13_pad[0][0]']           \n",
      " onv2D)                                                                                           \n",
      "                                                                                                  \n",
      " block_13_depthwise_BN (BatchNo  (None, 7, 7, 576)   2304        ['block_13_depthwise[0][0]']     \n",
      " rmalization)                                                                                     \n",
      "                                                                                                  \n",
      " block_13_depthwise_relu (ReLU)  (None, 7, 7, 576)   0           ['block_13_depthwise_BN[0][0]']  \n",
      "                                                                                                  \n",
      " block_13_project (Conv2D)      (None, 7, 7, 160)    92160       ['block_13_depthwise_relu[0][0]']\n",
      "                                                                                                  \n",
      " block_13_project_BN (BatchNorm  (None, 7, 7, 160)   640         ['block_13_project[0][0]']       \n",
      " alization)                                                                                       \n",
      "                                                                                                  \n",
      " block_14_expand (Conv2D)       (None, 7, 7, 960)    153600      ['block_13_project_BN[0][0]']    \n",
      "                                                                                                  \n",
      " block_14_expand_BN (BatchNorma  (None, 7, 7, 960)   3840        ['block_14_expand[0][0]']        \n",
      " lization)                                                                                        \n",
      "                                                                                                  \n",
      " block_14_expand_relu (ReLU)    (None, 7, 7, 960)    0           ['block_14_expand_BN[0][0]']     \n",
      "                                                                                                  \n",
      " block_14_depthwise (DepthwiseC  (None, 7, 7, 960)   8640        ['block_14_expand_relu[0][0]']   \n",
      " onv2D)                                                                                           \n",
      "                                                                                                  \n",
      " block_14_depthwise_BN (BatchNo  (None, 7, 7, 960)   3840        ['block_14_depthwise[0][0]']     \n",
      " rmalization)                                                                                     \n",
      "                                                                                                  \n",
      " block_14_depthwise_relu (ReLU)  (None, 7, 7, 960)   0           ['block_14_depthwise_BN[0][0]']  \n",
      "                                                                                                  \n",
      " block_14_project (Conv2D)      (None, 7, 7, 160)    153600      ['block_14_depthwise_relu[0][0]']\n",
      "                                                                                                  \n",
      " block_14_project_BN (BatchNorm  (None, 7, 7, 160)   640         ['block_14_project[0][0]']       \n",
      " alization)                                                                                       \n",
      "                                                                                                  \n",
      " block_14_add (Add)             (None, 7, 7, 160)    0           ['block_13_project_BN[0][0]',    \n",
      "                                                                  'block_14_project_BN[0][0]']    \n",
      "                                                                                                  \n",
      " block_15_expand (Conv2D)       (None, 7, 7, 960)    153600      ['block_14_add[0][0]']           \n",
      "                                                                                                  \n",
      " block_15_expand_BN (BatchNorma  (None, 7, 7, 960)   3840        ['block_15_expand[0][0]']        \n",
      " lization)                                                                                        \n",
      "                                                                                                  \n",
      " block_15_expand_relu (ReLU)    (None, 7, 7, 960)    0           ['block_15_expand_BN[0][0]']     \n",
      "                                                                                                  \n",
      " block_15_depthwise (DepthwiseC  (None, 7, 7, 960)   8640        ['block_15_expand_relu[0][0]']   \n",
      " onv2D)                                                                                           \n",
      "                                                                                                  \n",
      " block_15_depthwise_BN (BatchNo  (None, 7, 7, 960)   3840        ['block_15_depthwise[0][0]']     \n",
      " rmalization)                                                                                     \n",
      "                                                                                                  \n",
      " block_15_depthwise_relu (ReLU)  (None, 7, 7, 960)   0           ['block_15_depthwise_BN[0][0]']  \n",
      "                                                                                                  \n",
      " block_15_project (Conv2D)      (None, 7, 7, 160)    153600      ['block_15_depthwise_relu[0][0]']\n",
      "                                                                                                  \n",
      " block_15_project_BN (BatchNorm  (None, 7, 7, 160)   640         ['block_15_project[0][0]']       \n",
      " alization)                                                                                       \n",
      "                                                                                                  \n",
      " block_15_add (Add)             (None, 7, 7, 160)    0           ['block_14_add[0][0]',           \n",
      "                                                                  'block_15_project_BN[0][0]']    \n",
      "                                                                                                  \n",
      " block_16_expand (Conv2D)       (None, 7, 7, 960)    153600      ['block_15_add[0][0]']           \n",
      "                                                                                                  \n",
      " block_16_expand_BN (BatchNorma  (None, 7, 7, 960)   3840        ['block_16_expand[0][0]']        \n",
      " lization)                                                                                        \n",
      "                                                                                                  \n",
      " block_16_expand_relu (ReLU)    (None, 7, 7, 960)    0           ['block_16_expand_BN[0][0]']     \n",
      "                                                                                                  \n",
      " block_16_depthwise (DepthwiseC  (None, 7, 7, 960)   8640        ['block_16_expand_relu[0][0]']   \n",
      " onv2D)                                                                                           \n",
      "                                                                                                  \n",
      " block_16_depthwise_BN (BatchNo  (None, 7, 7, 960)   3840        ['block_16_depthwise[0][0]']     \n",
      " rmalization)                                                                                     \n",
      "                                                                                                  \n",
      " block_16_depthwise_relu (ReLU)  (None, 7, 7, 960)   0           ['block_16_depthwise_BN[0][0]']  \n",
      "                                                                                                  \n",
      " block_16_project (Conv2D)      (None, 7, 7, 320)    307200      ['block_16_depthwise_relu[0][0]']\n",
      "                                                                                                  \n",
      " block_16_project_BN (BatchNorm  (None, 7, 7, 320)   1280        ['block_16_project[0][0]']       \n",
      " alization)                                                                                       \n",
      "                                                                                                  \n",
      " Conv_1 (Conv2D)                (None, 7, 7, 1280)   409600      ['block_16_project_BN[0][0]']    \n",
      "                                                                                                  \n",
      " Conv_1_bn (BatchNormalization)  (None, 7, 7, 1280)  5120        ['Conv_1[0][0]']                 \n",
      "                                                                                                  \n",
      " out_relu (ReLU)                (None, 7, 7, 1280)   0           ['Conv_1_bn[0][0]']              \n",
      "                                                                                                  \n",
      " global_average_pooling2d (Glob  (None, 1280)        0           ['out_relu[0][0]']               \n",
      " alAveragePooling2D)                                                                              \n",
      "                                                                                                  \n",
      " dense_2 (Dense)                (None, 1024)         1311744     ['global_average_pooling2d[0][0]'\n",
      "                                                                 ]                                \n",
      "                                                                                                  \n",
      " dense_3 (Dense)                (None, 1024)         1049600     ['dense_2[0][0]']                \n",
      "                                                                                                  \n",
      " dense_4 (Dense)                (None, 512)          524800      ['dense_3[0][0]']                \n",
      "                                                                                                  \n",
      " dense_5 (Dense)                (None, 5)            2565        ['dense_4[0][0]']                \n",
      "                                                                                                  \n",
      "==================================================================================================\n",
      "Total params: 5,146,693\n",
      "Trainable params: 2,888,709\n",
      "Non-trainable params: 2,257,984\n",
      "__________________________________________________________________________________________________\n"
     ]
    }
   ],
   "source": [
    "model2.compile(optimizer=tf.keras.optimizers.Adam(0.0001), \n",
    "              loss='categorical_crossentropy', \n",
    "              metrics=['accuracy'])\n",
    "\n",
    "model2.summary()"
   ]
  },
  {
   "cell_type": "code",
   "execution_count": null,
   "metadata": {
    "colab": {
     "base_uri": "https://localhost:8080/"
    },
    "id": "yqjNpod_SX-x",
    "outputId": "e2f58687-e7a3-40e1-bbd5-2416cfd8e391"
   },
   "outputs": [
    {
     "name": "stdout",
     "output_type": "stream",
     "text": [
      "Epoch 1/20\n",
      "5/5 [==============================] - 19s 4s/step - loss: 1.2763 - accuracy: 0.4820 - val_loss: 0.9722 - val_accuracy: 0.6857\n",
      "Epoch 2/20\n",
      "5/5 [==============================] - 11s 2s/step - loss: 0.8284 - accuracy: 0.7590 - val_loss: 0.7483 - val_accuracy: 0.7429\n",
      "Epoch 3/20\n",
      "5/5 [==============================] - 11s 2s/step - loss: 0.5749 - accuracy: 0.8237 - val_loss: 0.5915 - val_accuracy: 0.7429\n",
      "Epoch 4/20\n",
      "5/5 [==============================] - 11s 2s/step - loss: 0.4432 - accuracy: 0.8489 - val_loss: 0.4828 - val_accuracy: 0.8000\n",
      "Epoch 5/20\n",
      "5/5 [==============================] - 11s 2s/step - loss: 0.3187 - accuracy: 0.8885 - val_loss: 0.3687 - val_accuracy: 0.8857\n",
      "Epoch 6/20\n",
      "5/5 [==============================] - 11s 2s/step - loss: 0.2784 - accuracy: 0.9029 - val_loss: 0.3236 - val_accuracy: 0.8857\n",
      "Epoch 7/20\n",
      "5/5 [==============================] - 11s 2s/step - loss: 0.2551 - accuracy: 0.9101 - val_loss: 0.3206 - val_accuracy: 0.8857\n",
      "Epoch 8/20\n",
      "5/5 [==============================] - 11s 2s/step - loss: 0.2116 - accuracy: 0.9424 - val_loss: 0.2677 - val_accuracy: 0.9143\n",
      "Epoch 9/20\n",
      "5/5 [==============================] - 11s 2s/step - loss: 0.2285 - accuracy: 0.9101 - val_loss: 0.2199 - val_accuracy: 0.9143\n",
      "Epoch 10/20\n",
      "5/5 [==============================] - 11s 2s/step - loss: 0.2172 - accuracy: 0.9353 - val_loss: 0.2804 - val_accuracy: 0.8857\n",
      "Epoch 11/20\n",
      "5/5 [==============================] - 11s 2s/step - loss: 0.1664 - accuracy: 0.9388 - val_loss: 0.2464 - val_accuracy: 0.9143\n",
      "Epoch 12/20\n",
      "5/5 [==============================] - 11s 2s/step - loss: 0.1581 - accuracy: 0.9496 - val_loss: 0.1830 - val_accuracy: 0.9429\n",
      "Epoch 13/20\n",
      "5/5 [==============================] - 11s 2s/step - loss: 0.1421 - accuracy: 0.9568 - val_loss: 0.1668 - val_accuracy: 0.9429\n",
      "Epoch 14/20\n",
      "5/5 [==============================] - 11s 2s/step - loss: 0.1634 - accuracy: 0.9460 - val_loss: 0.2190 - val_accuracy: 0.9143\n",
      "Epoch 15/20\n",
      "5/5 [==============================] - 12s 3s/step - loss: 0.1253 - accuracy: 0.9604 - val_loss: 0.1825 - val_accuracy: 0.8857\n",
      "Epoch 16/20\n",
      "5/5 [==============================] - 15s 3s/step - loss: 0.1313 - accuracy: 0.9604 - val_loss: 0.1806 - val_accuracy: 0.8857\n",
      "Epoch 17/20\n",
      "5/5 [==============================] - 12s 2s/step - loss: 0.1203 - accuracy: 0.9712 - val_loss: 0.1494 - val_accuracy: 0.9429\n",
      "Epoch 18/20\n",
      "5/5 [==============================] - 12s 2s/step - loss: 0.1029 - accuracy: 0.9676 - val_loss: 0.1221 - val_accuracy: 0.9714\n",
      "Epoch 19/20\n",
      "5/5 [==============================] - 11s 2s/step - loss: 0.1021 - accuracy: 0.9676 - val_loss: 0.1249 - val_accuracy: 0.9429\n",
      "Epoch 20/20\n",
      "5/5 [==============================] - 11s 2s/step - loss: 0.0993 - accuracy: 0.9676 - val_loss: 0.1060 - val_accuracy: 0.9714\n"
     ]
    }
   ],
   "source": [
    "hist = model2.fit(train_generator, epochs=20, validation_data = val_generator, verbose = 1)"
   ]
  },
  {
   "cell_type": "code",
   "execution_count": null,
   "metadata": {
    "colab": {
     "base_uri": "https://localhost:8080/"
    },
    "id": "vWrLOVB2UB-y",
    "outputId": "a347df7b-0ee5-4180-fcdc-ff338807e459"
   },
   "outputs": [
    {
     "name": "stdout",
     "output_type": "stream",
     "text": [
      "1/1 [==============================] - 1s 898ms/step - loss: 0.2301 - accuracy: 0.8750\n"
     ]
    }
   ],
   "source": [
    "loss = model2.evaluate(test_generator)"
   ]
  },
  {
   "cell_type": "code",
   "execution_count": null,
   "metadata": {
    "colab": {
     "base_uri": "https://localhost:8080/",
     "height": 545
    },
    "id": "5f9E5-l4cGfB",
    "outputId": "d84f6b27-185d-4ae0-e9e6-2ca593326ebb"
   },
   "outputs": [
    {
     "data": {
      "image/png": "[encoded data removed]",
      "text/plain": [
       "<Figure size 432x288 with 1 Axes>"
      ]
     },
     "metadata": {
      "needs_background": "light"
     },
     "output_type": "display_data"
    },
    {
     "data": {
      "image/png": "[encoded data removed]",
      "text/plain": [
       "<Figure size 432x288 with 1 Axes>"
      ]
     },
     "metadata": {
      "needs_background": "light"
     },
     "output_type": "display_data"
    }
   ],
   "source": [
    "acc = history.history['accuracy']\n",
    "val_acc = history.history['val_accuracy']\n",
    "loss = history.history['loss']\n",
    "val_loss = history.history['val_loss']\n",
    "\n",
    "epochs = range(len(acc)) \n",
    "\n",
    "plt.plot(epochs, acc, 'r', label='Training accuracy')\n",
    "plt.plot(epochs, val_acc, 'b', label='Validation accuracy')\n",
    "plt.title('Training and validation accuracy')\n",
    "plt.legend()\n",
    "plt.figure()\n",
    "\n",
    "plt.plot(epochs, loss, 'r', label='Training loss')\n",
    "plt.plot(epochs, val_loss, 'b', label='Validation loss')\n",
    "plt.title('Training and validation loss')\n",
    "plt.legend()\n",
    "\n",
    "plt.show()"
   ]
  },
  {
   "cell_type": "code",
   "execution_count": null,
   "metadata": {
    "id": "K29_sbs7cnl6"
   },
   "outputs": [],
   "source": [
    "saved_model_path = \"/content/model.h5\"\n",
    "\n",
    "model2.save(saved_model_path)"
   ]
  },
  {
   "cell_type": "code",
   "execution_count": null,
   "metadata": {
    "id": "txBPYu0_r7sJ"
   },
   "outputs": [],
   "source": [
    "converter = tf.lite.TFLiteConverter.from_keras_model(model2)\n",
    "tflite_model = converter.convert()"
   ]
  },
  {
   "cell_type": "code",
   "execution_count": null,
   "metadata": {
    "id": "ELOhoULdr_3T"
   },
   "outputs": [],
   "source": [
    "import pathlib\n",
    "\n",
    "tflite_model_file = pathlib.Path('/content/model2.tflite')\n",
    "tflite_model_file.write_bytes(tflite_model)"
   ]
  },
  {
   "cell_type": "code",
   "execution_count": null,
   "metadata": {
    "id": "9HB5cQWCdOiV"
   },
   "outputs": [],
   "source": []
  },
  {
   "cell_type": "code",
   "execution_count": null,
   "metadata": {
    "id": "5ie21sOwi_iX"
   },
   "outputs": [],
   "source": []
  }
 ],
 "metadata": {
  "colab": {
   "collapsed_sections": [],
   "name": "capstone_bangkit.ipynb",
   "provenance": []
  },
  "kernelspec": {
   "display_name": "Python 3 (ipykernel)",
   "language": "python",
   "name": "python3"
  },
  "language_info": {
   "codemirror_mode": {
    "name": "ipython",
    "version": 3
   },
   "file_extension": ".py",
   "mimetype": "text/x-python",
   "name": "python",
   "nbconvert_exporter": "python",
   "pygments_lexer": "ipython3",
   "version": "3.9.12"
  }
 },
 "nbformat": 4,
 "nbformat_minor": 1
}
